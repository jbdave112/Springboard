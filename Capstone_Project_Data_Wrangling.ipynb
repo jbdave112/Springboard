{
 "cells": [
  {
   "cell_type": "markdown",
   "metadata": {},
   "source": [
    "# Introduction"
   ]
  },
  {
   "cell_type": "markdown",
   "metadata": {},
   "source": [
    "The purpose of this project is to examine crime data in Los Angeles. The data comes from the lacity's website. The dataset reflects incidents of crime in the City of Los Angeles dating back to 2010. The dataset is available via API."
   ]
  },
  {
   "cell_type": "code",
   "execution_count": 44,
   "metadata": {},
   "outputs": [],
   "source": [
    "#Import relevant packages\n",
    "import pandas as pd\n",
    "import numpy as np\n",
    "import requests\n",
    "import seaborn as sns\n",
    "import matplotlib.pyplot as plt"
   ]
  },
  {
   "cell_type": "code",
   "execution_count": 2,
   "metadata": {},
   "outputs": [
    {
     "name": "stdout",
     "output_type": "stream",
     "text": [
      "<class 'list'>\n",
      "{':@computed_region_2dna_qi2s': '76', ':@computed_region_k96s_3jcv': '694', ':@computed_region_kqwf_mjcx': '9', ':@computed_region_qz3q_ghft': '23076', ':@computed_region_tatf_ua23': '1220', ':@computed_region_ur2y_g4cx': '7', 'area_id': '01', 'area_name': 'Central', 'crm_cd': '740', 'crm_cd_1': '740', 'crm_cd_desc': 'VANDALISM - FELONY ($400 & OVER, ALL CHURCH VANDALISMS) 0114', 'date_occ': '2017-11-02T00:00:00.000', 'date_rptd': '2017-11-02T00:00:00.000', 'dr_no': '170101261', 'location': '1800 S  BROADWAY', 'location_1': {'type': 'Point', 'coordinates': [-118.2647, 34.0328]}, 'mocodes': '0329 2004', 'premis_cd': '203', 'premis_desc': 'OTHER BUSINESS', 'rpt_dist_no': '0195', 'status': 'IC', 'status_desc': 'Invest Cont', 'time_occ': '2130', 'vict_age': '58', 'vict_descent': 'H', 'vict_sex': 'M'}\n"
     ]
    }
   ],
   "source": [
    "#Call API and investigate the structure\n",
    "r = requests.get('https://data.lacity.org/resource/7fvc-faax.json')\n",
    "json_data = r.json()\n",
    "print(type(json_data))\n",
    "print((json_data[0]))"
   ]
  },
  {
   "cell_type": "code",
   "execution_count": 45,
   "metadata": {},
   "outputs": [
    {
     "name": "stdout",
     "output_type": "stream",
     "text": [
      "  :@computed_region_2dna_qi2s :@computed_region_k96s_3jcv  \\\n",
      "0                          76                         694   \n",
      "1                         NaN                         532   \n",
      "2                          28                         533   \n",
      "3                          28                         536   \n",
      "4                          76                         537   \n",
      "\n",
      "  :@computed_region_kqwf_mjcx :@computed_region_qz3q_ghft  \\\n",
      "0                           9                       23076   \n",
      "1                           9                       22728   \n",
      "2                           9                       22728   \n",
      "3                           9                       23074   \n",
      "4                           9                       23074   \n",
      "\n",
      "  :@computed_region_tatf_ua23 :@computed_region_ur2y_g4cx area_id area_name  \\\n",
      "0                        1220                           7      01   Central   \n",
      "1                        1322                         NaN      01   Central   \n",
      "2                         466                         NaN      01   Central   \n",
      "3                        1289                         NaN      01   Central   \n",
      "4                        1289                         NaN      01   Central   \n",
      "\n",
      "  crm_cd crm_cd_1      ...        \\\n",
      "0    740      740      ...         \n",
      "1    888      888      ...         \n",
      "2    330      330      ...         \n",
      "3    330      330      ...         \n",
      "4    745      745      ...         \n",
      "\n",
      "                                    premis_desc rpt_dist_no status  \\\n",
      "0                                OTHER BUSINESS        0195     IC   \n",
      "1                   MTA PROPERTY OR PARKING LOT        0119     IC   \n",
      "2                                        STREET        0139     IC   \n",
      "3                                        STREET        0138     IC   \n",
      "4  MULTI-UNIT DWELLING (APARTMENT, DUPLEX, ETC)        0156     IC   \n",
      "\n",
      "   status_desc time_occ vict_age vict_descent vict_sex  \\\n",
      "0  Invest Cont     2130       58            H        M   \n",
      "1  Invest Cont     2230       48            H        M   \n",
      "2  Invest Cont     1730       20            H        M   \n",
      "3  Invest Cont     2200       22            H        F   \n",
      "4  Invest Cont     0055      NaN            X        X   \n",
      "\n",
      "                   weapon_desc weapon_used_cd  \n",
      "0                          NaN            NaN  \n",
      "1                          NaN            NaN  \n",
      "2                          NaN            NaN  \n",
      "3                          NaN            NaN  \n",
      "4  UNKNOWN WEAPON/OTHER WEAPON            500  \n",
      "\n",
      "[5 rows x 32 columns]\n"
     ]
    }
   ],
   "source": [
    "#Convert list of dictionaries into a pandas dataframe\n",
    "crime_df = pd.DataFrame(json_data)\n",
    "print(crime_df.head())"
   ]
  },
  {
   "cell_type": "code",
   "execution_count": 4,
   "metadata": {},
   "outputs": [
    {
     "name": "stdout",
     "output_type": "stream",
     "text": [
      "<class 'pandas.core.frame.DataFrame'>\n",
      "RangeIndex: 1000 entries, 0 to 999\n",
      "Data columns (total 32 columns):\n",
      ":@computed_region_2dna_qi2s    970 non-null object\n",
      ":@computed_region_k96s_3jcv    989 non-null object\n",
      ":@computed_region_kqwf_mjcx    997 non-null object\n",
      ":@computed_region_qz3q_ghft    1000 non-null object\n",
      ":@computed_region_tatf_ua23    998 non-null object\n",
      ":@computed_region_ur2y_g4cx    292 non-null object\n",
      "area_id                        1000 non-null object\n",
      "area_name                      1000 non-null object\n",
      "crm_cd                         1000 non-null object\n",
      "crm_cd_1                       1000 non-null object\n",
      "crm_cd_2                       63 non-null object\n",
      "crm_cd_3                       1 non-null object\n",
      "crm_cd_4                       1 non-null object\n",
      "crm_cd_desc                    1000 non-null object\n",
      "cross_street                   185 non-null object\n",
      "date_occ                       1000 non-null object\n",
      "date_rptd                      1000 non-null object\n",
      "dr_no                          1000 non-null object\n",
      "location                       1000 non-null object\n",
      "location_1                     1000 non-null object\n",
      "mocodes                        873 non-null object\n",
      "premis_cd                      1000 non-null object\n",
      "premis_desc                    993 non-null object\n",
      "rpt_dist_no                    1000 non-null object\n",
      "status                         1000 non-null object\n",
      "status_desc                    1000 non-null object\n",
      "time_occ                       1000 non-null object\n",
      "vict_age                       940 non-null object\n",
      "vict_descent                   884 non-null object\n",
      "vict_sex                       884 non-null object\n",
      "weapon_desc                    337 non-null object\n",
      "weapon_used_cd                 337 non-null object\n",
      "dtypes: object(32)\n",
      "memory usage: 250.1+ KB\n"
     ]
    }
   ],
   "source": [
    "crime_df.info()"
   ]
  },
  {
   "cell_type": "code",
   "execution_count": 9,
   "metadata": {},
   "outputs": [
    {
     "name": "stdout",
     "output_type": "stream",
     "text": [
      "<class 'pandas.core.frame.DataFrame'>\n",
      "RangeIndex: 1000 entries, 0 to 999\n",
      "Data columns (total 21 columns):\n",
      "area_id           1000 non-null object\n",
      "area_name         1000 non-null object\n",
      "crm_cd            1000 non-null object\n",
      "crm_cd_desc       1000 non-null object\n",
      "date_occ          1000 non-null object\n",
      "date_rptd         1000 non-null object\n",
      "dr_no             1000 non-null object\n",
      "location          1000 non-null object\n",
      "location_1        1000 non-null object\n",
      "mocodes           873 non-null object\n",
      "premis_cd         1000 non-null object\n",
      "premis_desc       993 non-null object\n",
      "rpt_dist_no       1000 non-null object\n",
      "status            1000 non-null object\n",
      "status_desc       1000 non-null object\n",
      "time_occ          1000 non-null object\n",
      "vict_age          940 non-null object\n",
      "vict_descent      884 non-null object\n",
      "vict_sex          884 non-null object\n",
      "weapon_desc       337 non-null object\n",
      "weapon_used_cd    337 non-null object\n",
      "dtypes: object(21)\n",
      "memory usage: 164.1+ KB\n"
     ]
    }
   ],
   "source": [
    "#Drop columns with more than 70% of the data missing and coding columns\n",
    "crime_df= crime_df[[column for column in crime_df if crime_df[column].count() / len(crime_df) >= 0.3]]\n",
    "crime_df = crime_df.drop([':@computed_region_2dna_qi2s', ':@computed_region_k96s_3jcv', ':@computed_region_kqwf_mjcx', ':@computed_region_qz3q_ghft', ':@computed_region_tatf_ua23'],1)\n",
    "crime_df = crime_df.drop(['crm_cd_1'], 1)\n",
    "crime_df.info()"
   ]
  },
  {
   "cell_type": "code",
   "execution_count": 10,
   "metadata": {},
   "outputs": [
    {
     "name": "stdout",
     "output_type": "stream",
     "text": [
      "  area_id area_name crm_cd                                        crm_cd_desc  \\\n",
      "0      01   Central    740  VANDALISM - FELONY ($400 & OVER, ALL CHURCH VA...   \n",
      "1      01   Central    888                                        TRESPASSING   \n",
      "2      01   Central    330                              BURGLARY FROM VEHICLE   \n",
      "3      01   Central    330                              BURGLARY FROM VEHICLE   \n",
      "4      01   Central    745           VANDALISM - MISDEAMEANOR ($399 OR UNDER)   \n",
      "\n",
      "                  date_occ                date_rptd      dr_no  \\\n",
      "0  2017-11-02T00:00:00.000  2017-11-02T00:00:00.000  170101261   \n",
      "1  2017-10-30T00:00:00.000  2017-10-30T00:00:00.000  170128267   \n",
      "2  2017-11-01T00:00:00.000  2017-11-01T00:00:00.000  170128444   \n",
      "3  2017-11-01T00:00:00.000  2017-11-01T00:00:00.000  170128445   \n",
      "4  2017-11-02T00:00:00.000  2017-11-02T00:00:00.000  170128448   \n",
      "\n",
      "                                 location  \\\n",
      "0                        1800 S  BROADWAY   \n",
      "1         LOS ANGELES                  ST   \n",
      "2  300 S  SANTA FE                     AV   \n",
      "3         3RD                          ST   \n",
      "4  500 S  SAN PEDRO                    ST   \n",
      "\n",
      "                                          location_1              mocodes  \\\n",
      "0  {'type': 'Point', 'coordinates': [-118.2647, 3...            0329 2004   \n",
      "1  {'type': 'Point', 'coordinates': [-118.2318, 3...  0910 2028 1501 2004   \n",
      "2  {'type': 'Point', 'coordinates': [-118.2326, 3...  1609 1307 0358 0344   \n",
      "3  {'type': 'Point', 'coordinates': [-118.2411, 3...  0344 1609 1307 0358   \n",
      "4  {'type': 'Point', 'coordinates': [-118.2455, 3...            0329 1609   \n",
      "\n",
      "       ...                                         premis_desc rpt_dist_no  \\\n",
      "0      ...                                      OTHER BUSINESS        0195   \n",
      "1      ...                         MTA PROPERTY OR PARKING LOT        0119   \n",
      "2      ...                                              STREET        0139   \n",
      "3      ...                                              STREET        0138   \n",
      "4      ...        MULTI-UNIT DWELLING (APARTMENT, DUPLEX, ETC)        0156   \n",
      "\n",
      "  status  status_desc time_occ vict_age vict_descent vict_sex  \\\n",
      "0     IC  Invest Cont     2130       58            H        M   \n",
      "1     IC  Invest Cont     2230       48            H        M   \n",
      "2     IC  Invest Cont     1730       20            H        M   \n",
      "3     IC  Invest Cont     2200       22            H        F   \n",
      "4     IC  Invest Cont     0055      NaN            X        X   \n",
      "\n",
      "                   weapon_desc weapon_used_cd  \n",
      "0                          NaN            NaN  \n",
      "1                          NaN            NaN  \n",
      "2                          NaN            NaN  \n",
      "3                          NaN            NaN  \n",
      "4  UNKNOWN WEAPON/OTHER WEAPON            500  \n",
      "\n",
      "[5 rows x 21 columns]\n"
     ]
    }
   ],
   "source": [
    "print(crime_df.head())"
   ]
  },
  {
   "cell_type": "code",
   "execution_count": 13,
   "metadata": {},
   "outputs": [
    {
     "data": {
      "text/plain": [
       "crm_cd_desc\n",
       "THEFT OF IDENTITY                                               90\n",
       "VEHICLE - STOLEN                                                87\n",
       "INTIMATE PARTNER - SIMPLE ASSAULT                               87\n",
       "BURGLARY FROM VEHICLE                                           70\n",
       "BATTERY - SIMPLE ASSAULT                                        68\n",
       "VANDALISM - FELONY ($400 & OVER, ALL CHURCH VANDALISMS) 0114    62\n",
       "ASSAULT WITH DEADLY WEAPON, AGGRAVATED ASSAULT                  56\n",
       "THEFT PLAIN - PETTY ($950 & UNDER)                              50\n",
       "CRIMINAL THREATS - NO WEAPON DISPLAYED                          49\n",
       "VANDALISM - MISDEAMEANOR ($399 OR UNDER)                        47\n",
       "Name: area_name, dtype: int64"
      ]
     },
     "execution_count": 13,
     "metadata": {},
     "output_type": "execute_result"
    }
   ],
   "source": [
    "#To begin I would like to see the different types of crime\n",
    "crime_df.groupby('crm_cd_desc').area_name.count().sort_values(ascending=False).head(10)"
   ]
  },
  {
   "cell_type": "code",
   "execution_count": 14,
   "metadata": {},
   "outputs": [
    {
     "name": "stdout",
     "output_type": "stream",
     "text": [
      "{'01': 'Central', '02': 'Rampart', '03': 'Southwest', '19': 'Mission', '04': 'Hollenbeck', '05': 'Harbor', '06': 'Hollywood', '07': 'Wilshire', '08': 'West LA', '09': 'Van Nuys', '10': 'West Valley', '11': 'Northeast', '12': '77th Street', '13': 'Newton', '14': 'Pacific', '15': 'N Hollywood', '16': 'Foothill', '17': 'Devonshire', '18': 'Southeast', '20': 'Olympic', '21': 'Topanga'}\n"
     ]
    },
    {
     "data": {
      "image/png": "[encoded data removed]",
      "text/plain": [
       "<matplotlib.figure.Figure at 0x265668831d0>"
      ]
     },
     "metadata": {},
     "output_type": "display_data"
    }
   ],
   "source": [
    "#Investigate where crimes are more likely to occur\n",
    "area_ids = crime_df.area_id.unique()\n",
    "area_names = crime_df.area_name.unique()\n",
    "area_dict = dict(zip(area_ids, area_names))\n",
    "print(area_dict)\n",
    "sns.set(style=\"darkgrid\")\n",
    "ax = sns.countplot(x='area_id', data = crime_df)"
   ]
  },
  {
   "cell_type": "markdown",
   "metadata": {},
   "source": [
    "Area 7 has the highest number of crimes by far. Looking at the dictionary we see that area 7 corresponds to the area name Wilshire. Wilshire is a prominent boulevard that goes east and west through Los Angeles. It seems that the area name Wilshire corresponds to crimes that occur at or near this major street. Wilshire is a major hub for transportation with many buses and subways that run along it. This combined with the fact that many people live along this street contribute to the fact that many crimes occur here.\n",
    "Other noteworthy high crime counts are Hollywood, Southwest, and Central.\n",
    "The lowest crime count corresponds with the area Harbor\n",
    "\n",
    "I believe these crime counts are heavily influenced by the population density of each area"
   ]
  },
  {
   "cell_type": "code",
   "execution_count": 21,
   "metadata": {},
   "outputs": [
    {
     "name": "stdout",
     "output_type": "stream",
     "text": [
      "6    516\n",
      "Name: premis_cd, dtype: object\n",
      "nan\n"
     ]
    }
   ],
   "source": [
    "#Fill Premis Descriptions for which their is already a description assigned to a code\n",
    "premise_codes = crime_df.premis_cd.unique()\n",
    "premise = crime_df.premis_desc.unique()\n",
    "premise_dict = dict(zip(premise_codes, premise))\n",
    "crime_df.premis_desc = crime_df.premis_desc.fillna(crime_df.premis_cd.map(premise_dict))\n",
    "print(crime_df[crime_df['premis_desc'].isnull()]['premis_cd'])\n",
    "print(premise_dict['516'])"
   ]
  },
  {
   "cell_type": "code",
   "execution_count": 36,
   "metadata": {},
   "outputs": [
    {
     "data": {
      "image/png": "[encoded data removed]",
      "text/plain": [
       "<matplotlib.figure.Figure at 0x26567e88940>"
      ]
     },
     "metadata": {},
     "output_type": "display_data"
    }
   ],
   "source": [
    "#Put the time crimes occur into buckets\n",
    "crime_df['time'] = pd.to_numeric(crime_df['time_occ'])\n",
    "def label_time(row):\n",
    "    if 500 <= row < 800:\n",
    "        return 'Early_Morning'\n",
    "    elif 800 <= row < 1100:\n",
    "        return 'Morning'\n",
    "    elif 1100 <= row < 1400:\n",
    "        return 'Around_Noon'\n",
    "    elif 1400 <= row < 1700:\n",
    "        return 'Late_Afternoon'\n",
    "    elif 1700 <= row < 2000:\n",
    "        return 'Evening'\n",
    "    elif 2000 <= row < 2300:\n",
    "        return 'Late_Evening'\n",
    "    elif 2300 <= row <= 2400 or 0 <= row < 200:\n",
    "        return 'Night'\n",
    "    elif 200 <= row < 500:\n",
    "        return 'Late_Night'\n",
    "    else:\n",
    "        return 'Other'\n",
    "crime_df['time_groups'] = crime_df['time'].apply(label_time)\n",
    "plt.figure(figsize=(10,5))\n",
    "axis = sns.countplot(x = 'time_groups', data = crime_df)"
   ]
  },
  {
   "cell_type": "code",
   "execution_count": 37,
   "metadata": {
    "scrolled": true
   },
   "outputs": [
    {
     "name": "stdout",
     "output_type": "stream",
     "text": [
      "count    940.000000\n",
      "mean      35.012766\n",
      "std       15.934833\n",
      "min       10.000000\n",
      "25%       22.000000\n",
      "50%       32.000000\n",
      "75%       46.000000\n",
      "max       94.000000\n",
      "Name: age, dtype: float64\n"
     ]
    }
   ],
   "source": [
    "#Convert age to numerics and see the description of the age column\n",
    "crime_df['age'] = pd.to_numeric(crime_df['vict_age'])\n",
    "print(crime_df['age'].describe())"
   ]
  },
  {
   "cell_type": "code",
   "execution_count": 38,
   "metadata": {},
   "outputs": [
    {
     "data": {
      "image/png": "[encoded data removed]",
      "text/plain": [
       "<matplotlib.figure.Figure at 0x26566d56b00>"
      ]
     },
     "metadata": {},
     "output_type": "display_data"
    }
   ],
   "source": [
    "#Examine the distribution of age for victims\n",
    "plt.xlabel('age')\n",
    "plt.title('Age of Victims')\n",
    "plt.xticks(range(0, 100, 10))\n",
    "plt.hist(crime_df['age'].dropna(), bins=15, density = True, stacked = True, color = 'teal', alpha = .6)\n",
    "plt.show()"
   ]
  },
  {
   "cell_type": "markdown",
   "metadata": {},
   "source": [
    "From this histogram we can see that the portion of the population that are the most victimized are teenagers and the risk of victimization appears to drop as individuals get older."
   ]
  },
  {
   "cell_type": "code",
   "execution_count": 39,
   "metadata": {},
   "outputs": [
    {
     "data": {
      "text/plain": [
       "<matplotlib.axes._subplots.AxesSubplot at 0x26567ebdd30>"
      ]
     },
     "execution_count": 39,
     "metadata": {},
     "output_type": "execute_result"
    },
    {
     "data": {
      "image/png": "[encoded data removed]",
      "text/plain": [
       "<matplotlib.figure.Figure at 0x26567e32cf8>"
      ]
     },
     "metadata": {},
     "output_type": "display_data"
    }
   ],
   "source": [
    "sns.countplot(x='vict_descent', data = crime_df)"
   ]
  },
  {
   "cell_type": "code",
   "execution_count": 40,
   "metadata": {},
   "outputs": [
    {
     "data": {
      "text/plain": [
       "<matplotlib.axes._subplots.AxesSubplot at 0x26566cb7fd0>"
      ]
     },
     "execution_count": 40,
     "metadata": {},
     "output_type": "execute_result"
    },
    {
     "data": {
      "image/png": "[encoded data removed]",
      "text/plain": [
       "<matplotlib.figure.Figure at 0x26567e6ff28>"
      ]
     },
     "metadata": {},
     "output_type": "display_data"
    }
   ],
   "source": [
    "sns.countplot(x='vict_sex', data = crime_df)"
   ]
  },
  {
   "cell_type": "markdown",
   "metadata": {},
   "source": [
    "Victims are more likely to be hispanic, white, or black. The counts of male and female victims are roughly equal with there being slightly more males."
   ]
  }
 ],
 "metadata": {
  "kernelspec": {
   "display_name": "Python 3",
   "language": "python",
   "name": "python3"
  },
  "language_info": {
   "codemirror_mode": {
    "name": "ipython",
    "version": 3
   },
   "file_extension": ".py",
   "mimetype": "text/x-python",
   "name": "python",
   "nbconvert_exporter": "python",
   "pygments_lexer": "ipython3",
   "version": "3.6.4"
  }
 },
 "nbformat": 4,
 "nbformat_minor": 2
}
