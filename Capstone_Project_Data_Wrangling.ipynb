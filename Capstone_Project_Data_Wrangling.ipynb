{
 "cells": [
  {
   "cell_type": "markdown",
   "metadata": {},
   "source": [
    "# Introduction"
   ]
  },
  {
   "cell_type": "markdown",
   "metadata": {},
   "source": [
    "The purpose of this project is to examine crime data in Los Angeles. The data comes from the lacity's website. The dataset reflects incidents of crime in the City of Los Angeles dating back to 2010. The dataset is available via API."
   ]
  },
  {
   "cell_type": "markdown",
   "metadata": {},
   "source": [
    "Questions I will be examined\n",
    "1. Are certain areas more prone to crimes?\n",
    "2. Are there certain times where more crimes are occuring?\n",
    "3. Are there subpopulations which are more often targets of crime?\n",
    "4. What weapons are most often used"
   ]
  },
  {
   "cell_type": "code",
   "execution_count": 1,
   "metadata": {},
   "outputs": [],
   "source": [
    "#Import relevant packages\n",
    "import pandas as pd\n",
    "import numpy as np\n",
    "import requests\n",
    "import seaborn as sns\n",
    "import matplotlib.pyplot as plt"
   ]
  },
  {
   "cell_type": "code",
   "execution_count": 2,
   "metadata": {},
   "outputs": [
    {
     "name": "stdout",
     "output_type": "stream",
     "text": [
      "<class 'list'>\n",
      "{':@computed_region_2dna_qi2s': '76', ':@computed_region_k96s_3jcv': '537', ':@computed_region_kqwf_mjcx': '9', ':@computed_region_qz3q_ghft': '23082', ':@computed_region_tatf_ua23': '1018', 'area_id': '01', 'area_name': 'Central', 'crm_cd': '821', 'crm_cd_1': '821', 'crm_cd_desc': 'SODOMY/SEXUAL CONTACT B/W PENIS OF ONE PERS TO ANUS OTH 0007=02', 'cross_street': 'SAN PEDRO', 'date_occ': '2010-11-15T00:00:00.000', 'date_rptd': '2010-11-16T00:00:00.000', 'dr_no': '100120235', 'location': '7TH', 'location_1': {'type': 'Point', 'coordinates': [-118.2459, 34.0401]}, 'mocodes': '0519 0540 0537', 'premis_cd': '102', 'premis_desc': 'SIDEWALK', 'rpt_dist_no': '0157', 'status': 'AO', 'status_desc': 'Adult Other', 'time_occ': '2045', 'vict_age': '30', 'vict_descent': 'H', 'vict_sex': 'M', 'weapon_desc': 'STRONG-ARM (HANDS, FIST, FEET OR BODILY FORCE)', 'weapon_used_cd': '400'}\n"
     ]
    }
   ],
   "source": [
    "#Call API and investigate the structure\n",
    "r = requests.get('https://data.lacity.org/resource/7fvc-faax.json')\n",
    "json_data = r.json()\n",
    "print(type(json_data))\n",
    "print((json_data[0]))"
   ]
  },
  {
   "cell_type": "code",
   "execution_count": 3,
   "metadata": {},
   "outputs": [
    {
     "name": "stdout",
     "output_type": "stream",
     "text": [
      "  :@computed_region_2dna_qi2s :@computed_region_k96s_3jcv  \\\n",
      "0                          76                         537   \n",
      "1                          67                         549   \n",
      "2                          23                         887   \n",
      "3                          26                         626   \n",
      "4                          26                         635   \n",
      "\n",
      "  :@computed_region_kqwf_mjcx :@computed_region_qz3q_ghft  \\\n",
      "0                           9                       23082   \n",
      "1                           8                       23444   \n",
      "2                          12                       23451   \n",
      "3                           7                       23667   \n",
      "4                           7                       23667   \n",
      "\n",
      "  :@computed_region_tatf_ua23 :@computed_region_ur2y_g4cx area_id area_name  \\\n",
      "0                        1018                         NaN      01   Central   \n",
      "1                         942                         NaN      02   Rampart   \n",
      "2                        1102                         NaN      07  Wilshire   \n",
      "3                        1086                         NaN      07  Wilshire   \n",
      "4                         332                         NaN      07  Wilshire   \n",
      "\n",
      "  crm_cd crm_cd_1      ...        \\\n",
      "0    821      821      ...         \n",
      "1    810      810      ...         \n",
      "2    626      626      ...         \n",
      "3    930      930      ...         \n",
      "4    626      626      ...         \n",
      "\n",
      "                                    premis_desc rpt_dist_no status  \\\n",
      "0                                      SIDEWALK        0157     AO   \n",
      "1  MULTI-UNIT DWELLING (APARTMENT, DUPLEX, ETC)        0248     AA   \n",
      "2                        SINGLE FAMILY DWELLING        0782     AA   \n",
      "3                               PARK/PLAYGROUND        0724     AA   \n",
      "4  MULTI-UNIT DWELLING (APARTMENT, DUPLEX, ETC)        0735     AA   \n",
      "\n",
      "    status_desc time_occ vict_age vict_descent vict_sex  \\\n",
      "0   Adult Other     2045       30            H        M   \n",
      "1  Adult Arrest     0001       11            H        F   \n",
      "2  Adult Arrest     0030       49            H        F   \n",
      "3  Adult Arrest     1050       41            B        M   \n",
      "4  Adult Arrest     0600       27            O        F   \n",
      "\n",
      "                                      weapon_desc weapon_used_cd  \n",
      "0  STRONG-ARM (HANDS, FIST, FEET OR BODILY FORCE)            400  \n",
      "1  STRONG-ARM (HANDS, FIST, FEET OR BODILY FORCE)            400  \n",
      "2                                             NaN            NaN  \n",
      "3                                   VERBAL THREAT            511  \n",
      "4  STRONG-ARM (HANDS, FIST, FEET OR BODILY FORCE)            400  \n",
      "\n",
      "[5 rows x 31 columns]\n"
     ]
    }
   ],
   "source": [
    "#Convert list of dictionaries into a pandas dataframe\n",
    "crime_df = pd.DataFrame(json_data)\n",
    "print(crime_df.head())"
   ]
  },
  {
   "cell_type": "code",
   "execution_count": 4,
   "metadata": {},
   "outputs": [
    {
     "name": "stdout",
     "output_type": "stream",
     "text": [
      "<class 'pandas.core.frame.DataFrame'>\n",
      "RangeIndex: 1000 entries, 0 to 999\n",
      "Data columns (total 31 columns):\n",
      ":@computed_region_2dna_qi2s    972 non-null object\n",
      ":@computed_region_k96s_3jcv    980 non-null object\n",
      ":@computed_region_kqwf_mjcx    985 non-null object\n",
      ":@computed_region_qz3q_ghft    991 non-null object\n",
      ":@computed_region_tatf_ua23    989 non-null object\n",
      ":@computed_region_ur2y_g4cx    180 non-null object\n",
      "area_id                        1000 non-null object\n",
      "area_name                      1000 non-null object\n",
      "crm_cd                         1000 non-null object\n",
      "crm_cd_1                       1000 non-null object\n",
      "crm_cd_2                       172 non-null object\n",
      "crm_cd_3                       2 non-null object\n",
      "crm_cd_desc                    1000 non-null object\n",
      "cross_street                   193 non-null object\n",
      "date_occ                       1000 non-null object\n",
      "date_rptd                      1000 non-null object\n",
      "dr_no                          1000 non-null object\n",
      "location                       1000 non-null object\n",
      "location_1                     1000 non-null object\n",
      "mocodes                        972 non-null object\n",
      "premis_cd                      1000 non-null object\n",
      "premis_desc                    1000 non-null object\n",
      "rpt_dist_no                    1000 non-null object\n",
      "status                         1000 non-null object\n",
      "status_desc                    1000 non-null object\n",
      "time_occ                       1000 non-null object\n",
      "vict_age                       928 non-null object\n",
      "vict_descent                   993 non-null object\n",
      "vict_sex                       993 non-null object\n",
      "weapon_desc                    677 non-null object\n",
      "weapon_used_cd                 677 non-null object\n",
      "dtypes: object(31)\n",
      "memory usage: 242.3+ KB\n"
     ]
    }
   ],
   "source": [
    "crime_df.info()"
   ]
  },
  {
   "cell_type": "code",
   "execution_count": 5,
   "metadata": {},
   "outputs": [
    {
     "name": "stdout",
     "output_type": "stream",
     "text": [
      "<class 'pandas.core.frame.DataFrame'>\n",
      "RangeIndex: 1000 entries, 0 to 999\n",
      "Data columns (total 21 columns):\n",
      "area_id           1000 non-null object\n",
      "area_name         1000 non-null object\n",
      "crm_cd            1000 non-null object\n",
      "crm_cd_desc       1000 non-null object\n",
      "date_occ          1000 non-null object\n",
      "date_rptd         1000 non-null object\n",
      "dr_no             1000 non-null object\n",
      "location          1000 non-null object\n",
      "location_1        1000 non-null object\n",
      "mocodes           972 non-null object\n",
      "premis_cd         1000 non-null object\n",
      "premis_desc       1000 non-null object\n",
      "rpt_dist_no       1000 non-null object\n",
      "status            1000 non-null object\n",
      "status_desc       1000 non-null object\n",
      "time_occ          1000 non-null object\n",
      "vict_age          928 non-null object\n",
      "vict_descent      993 non-null object\n",
      "vict_sex          993 non-null object\n",
      "weapon_desc       677 non-null object\n",
      "weapon_used_cd    677 non-null object\n",
      "dtypes: object(21)\n",
      "memory usage: 164.1+ KB\n"
     ]
    }
   ],
   "source": [
    "#Drop columns with more than 70% of the data missing and coding columns\n",
    "crime_df= crime_df[[column for column in crime_df if crime_df[column].count() / len(crime_df) >= 0.3]]\n",
    "crime_df = crime_df.drop([':@computed_region_2dna_qi2s', ':@computed_region_k96s_3jcv', ':@computed_region_kqwf_mjcx', ':@computed_region_qz3q_ghft', ':@computed_region_tatf_ua23'],1)\n",
    "crime_df = crime_df.drop(['crm_cd_1'], 1)\n",
    "crime_df.info()"
   ]
  },
  {
   "cell_type": "code",
   "execution_count": 6,
   "metadata": {},
   "outputs": [
    {
     "name": "stdout",
     "output_type": "stream",
     "text": [
      "Series([], Name: premis_cd, dtype: object)\n",
      "SINGLE RESIDENCE OCCUPANCY (SRO'S) LOCATIONS\n"
     ]
    }
   ],
   "source": [
    "#Fill Premis Descriptions for which their is already a description assigned to a code\n",
    "premise_codes = crime_df.premis_cd.unique()\n",
    "premise = crime_df.premis_desc.unique()\n",
    "premise_dict = dict(zip(premise_codes, premise))\n",
    "crime_df.premis_desc = crime_df.premis_desc.fillna(crime_df.premis_cd.map(premise_dict))\n",
    "print(crime_df[crime_df['premis_desc'].isnull()]['premis_cd'])\n",
    "print(premise_dict['516'])"
   ]
  },
  {
   "cell_type": "code",
   "execution_count": 7,
   "metadata": {},
   "outputs": [
    {
     "name": "stdout",
     "output_type": "stream",
     "text": [
      "  area_id area_name crm_cd                                        crm_cd_desc  \\\n",
      "0      01   Central    821  SODOMY/SEXUAL CONTACT B/W PENIS OF ONE PERS TO...   \n",
      "1      02   Rampart    810  SEX,UNLAWFUL(INC MUTUAL CONSENT, PENETRATION W...   \n",
      "2      07  Wilshire    626                  INTIMATE PARTNER - SIMPLE ASSAULT   \n",
      "3      07  Wilshire    930             CRIMINAL THREATS - NO WEAPON DISPLAYED   \n",
      "4      07  Wilshire    626                  INTIMATE PARTNER - SIMPLE ASSAULT   \n",
      "\n",
      "                  date_occ                date_rptd      dr_no  \\\n",
      "0  2010-11-15T00:00:00.000  2010-11-16T00:00:00.000  100120235   \n",
      "1  2010-03-01T00:00:00.000  2010-05-19T00:00:00.000  100211716   \n",
      "2  2010-11-15T00:00:00.000  2010-11-15T00:00:00.000  100700184   \n",
      "3  2010-03-12T00:00:00.000  2010-03-12T00:00:00.000  100700660   \n",
      "4  2010-03-13T00:00:00.000  2010-03-13T00:00:00.000  100700661   \n",
      "\n",
      "                                  location  \\\n",
      "0                                      7TH   \n",
      "1  1600 W  3RD                          ST   \n",
      "2  6000    CADILLAC                     AV   \n",
      "3  7600    BEVERLY                      BL   \n",
      "4   600 S  DETROIT                      ST   \n",
      "\n",
      "                                          location_1  \\\n",
      "0  {'type': 'Point', 'coordinates': [-118.2459, 3...   \n",
      "1  {'type': 'Point', 'coordinates': [-118.2655, 3...   \n",
      "2  {'type': 'Point', 'coordinates': [-118.3742, 3...   \n",
      "3  {'type': 'Point', 'coordinates': [-118.3555, 3...   \n",
      "4  {'type': 'Point', 'coordinates': [-118.3451, 3...   \n",
      "\n",
      "                    mocodes      ...        \\\n",
      "0            0519 0540 0537      ...         \n",
      "1            0527 0554 1258      ...         \n",
      "2  0400 0410 0408 0434 2000      ...         \n",
      "3                      0421      ...         \n",
      "4                 0400 2000      ...         \n",
      "\n",
      "                                    premis_desc rpt_dist_no status  \\\n",
      "0                                      SIDEWALK        0157     AO   \n",
      "1  MULTI-UNIT DWELLING (APARTMENT, DUPLEX, ETC)        0248     AA   \n",
      "2                        SINGLE FAMILY DWELLING        0782     AA   \n",
      "3                               PARK/PLAYGROUND        0724     AA   \n",
      "4  MULTI-UNIT DWELLING (APARTMENT, DUPLEX, ETC)        0735     AA   \n",
      "\n",
      "    status_desc time_occ vict_age vict_descent vict_sex  \\\n",
      "0   Adult Other     2045       30            H        M   \n",
      "1  Adult Arrest     0001       11            H        F   \n",
      "2  Adult Arrest     0030       49            H        F   \n",
      "3  Adult Arrest     1050       41            B        M   \n",
      "4  Adult Arrest     0600       27            O        F   \n",
      "\n",
      "                                      weapon_desc weapon_used_cd  \n",
      "0  STRONG-ARM (HANDS, FIST, FEET OR BODILY FORCE)            400  \n",
      "1  STRONG-ARM (HANDS, FIST, FEET OR BODILY FORCE)            400  \n",
      "2                                             NaN            NaN  \n",
      "3                                   VERBAL THREAT            511  \n",
      "4  STRONG-ARM (HANDS, FIST, FEET OR BODILY FORCE)            400  \n",
      "\n",
      "[5 rows x 21 columns]\n"
     ]
    }
   ],
   "source": [
    "print(crime_df.head())"
   ]
  },
  {
   "cell_type": "code",
   "execution_count": 8,
   "metadata": {},
   "outputs": [
    {
     "data": {
      "text/plain": [
       "crm_cd_desc\n",
       "INTIMATE PARTNER - SIMPLE ASSAULT                 157\n",
       "BATTERY - SIMPLE ASSAULT                          115\n",
       "ASSAULT WITH DEADLY WEAPON, AGGRAVATED ASSAULT    113\n",
       "CRIMINAL THREATS - NO WEAPON DISPLAYED             99\n",
       "INTIMATE PARTNER - AGGRAVATED ASSAULT              35\n",
       "VIOLATION OF RESTRAINING ORDER                     34\n",
       "ROBBERY                                            31\n",
       "BURGLARY                                           28\n",
       "RAPE, FORCIBLE                                     23\n",
       "SHOPLIFTING - PETTY THEFT ($950 & UNDER)           22\n",
       "Name: area_name, dtype: int64"
      ]
     },
     "execution_count": 8,
     "metadata": {},
     "output_type": "execute_result"
    }
   ],
   "source": [
    "#To begin I would like to see the different types of crime\n",
    "crime_df.groupby('crm_cd_desc').area_name.count().sort_values(ascending=False).head(10)"
   ]
  },
  {
   "cell_type": "code",
   "execution_count": 9,
   "metadata": {},
   "outputs": [
    {
     "name": "stdout",
     "output_type": "stream",
     "text": [
      "{'01': 'Central', '02': 'Rampart', '07': 'Wilshire', '08': 'West LA', '20': 'Olympic', '03': 'Southwest', '09': 'Van Nuys', '16': 'Foothill', '18': 'Southeast', '21': 'Topanga', '10': 'West Valley', '12': '77th Street', '13': 'Newton', '15': 'N Hollywood', '04': 'Hollenbeck', '05': 'Harbor', '06': 'Hollywood', '17': 'Devonshire', '11': 'Northeast', '14': 'Pacific', '19': 'Mission'}\n"
     ]
    },
    {
     "data": {
      "image/png": "[encoded data removed]",
      "text/plain": [
       "<matplotlib.figure.Figure at 0x19e829b9278>"
      ]
     },
     "metadata": {},
     "output_type": "display_data"
    }
   ],
   "source": [
    "#Investigate where crimes are more likely to occur\n",
    "area_ids = crime_df.area_id.unique()\n",
    "area_names = crime_df.area_name.unique()\n",
    "area_dict = dict(zip(area_ids, area_names))\n",
    "print(area_dict)\n",
    "sns.set(style=\"darkgrid\")\n",
    "ax = sns.countplot(x='area_id', data = crime_df)"
   ]
  },
  {
   "cell_type": "markdown",
   "metadata": {},
   "source": [
    "Area 7 has the highest number of crimes by far. Looking at the dictionary we see that area 7 corresponds to the area name Wilshire. Wilshire is a prominent boulevard that goes east and west through Los Angeles. It seems that the area name Wilshire corresponds to crimes that occur at or near this major street. Wilshire is a major hub for transportation with many buses and subways that run along it. This combined with the fact that many people live along this street contribute to the fact that many crimes occur here.\n",
    "Other noteworthy high crime counts are Hollywood, Southwest, and Central.\n",
    "The lowest crime count corresponds with the area Harbor\n",
    "\n",
    "I believe these crime counts are heavily influenced by the population density of each area"
   ]
  },
  {
   "cell_type": "code",
   "execution_count": 10,
   "metadata": {},
   "outputs": [
    {
     "data": {
      "image/png": "[encoded data removed]",
      "text/plain": [
       "<matplotlib.figure.Figure at 0x19e82992be0>"
      ]
     },
     "metadata": {},
     "output_type": "display_data"
    }
   ],
   "source": [
    "#Put the time crimes occur into buckets\n",
    "crime_df['time'] = pd.to_numeric(crime_df['time_occ'])\n",
    "def label_time(row):\n",
    "    if 500 <= row < 800:\n",
    "        return 'Early_Morning'\n",
    "    elif 800 <= row < 1100:\n",
    "        return 'Morning'\n",
    "    elif 1100 <= row < 1400:\n",
    "        return 'Around_Noon'\n",
    "    elif 1400 <= row < 1700:\n",
    "        return 'Late_Afternoon'\n",
    "    elif 1700 <= row < 2000:\n",
    "        return 'Evening'\n",
    "    elif 2000 <= row < 2300:\n",
    "        return 'Late_Evening'\n",
    "    elif 2300 <= row <= 2400 or 0 <= row < 200:\n",
    "        return 'Night'\n",
    "    elif 200 <= row < 500:\n",
    "        return 'Late_Night'\n",
    "    else:\n",
    "        return 'Other'\n",
    "crime_df['time_groups'] = crime_df['time'].apply(label_time)\n",
    "plt.figure(figsize=(10,5))\n",
    "axis = sns.countplot(x = 'time_groups', data = crime_df, order = ['Early_Morning', 'Morning', 'Around_Noon', 'Evening', 'Late_Evening', 'Night', 'Late_Night'])"
   ]
  },
  {
   "cell_type": "code",
   "execution_count": 11,
   "metadata": {
    "scrolled": true
   },
   "outputs": [
    {
     "name": "stdout",
     "output_type": "stream",
     "text": [
      "count    928.000000\n",
      "mean      36.780172\n",
      "std       15.329645\n",
      "min       10.000000\n",
      "25%       25.000000\n",
      "50%       34.000000\n",
      "75%       46.000000\n",
      "max       95.000000\n",
      "Name: age, dtype: float64\n"
     ]
    }
   ],
   "source": [
    "#Convert age to numerics and see the description of the age column\n",
    "crime_df['age'] = pd.to_numeric(crime_df['vict_age'])\n",
    "print(crime_df['age'].describe())"
   ]
  },
  {
   "cell_type": "code",
   "execution_count": 12,
   "metadata": {},
   "outputs": [
    {
     "data": {
      "image/png": "[encoded data removed]",
      "text/plain": [
       "<matplotlib.figure.Figure at 0x19efec1ac88>"
      ]
     },
     "metadata": {},
     "output_type": "display_data"
    }
   ],
   "source": [
    "#Examine the distribution of age for victims\n",
    "plt.xlabel('age')\n",
    "plt.title('Age of Victims')\n",
    "plt.xticks(range(0, 100, 10))\n",
    "plt.hist(crime_df['age'].dropna(), bins=15, density = True, stacked = True, color = 'teal', alpha = .6)\n",
    "plt.show()"
   ]
  },
  {
   "cell_type": "markdown",
   "metadata": {},
   "source": [
    "From this histogram we can see that the portion of the population that are the most victimized are teenagers and the risk of victimization appears to drop as individuals get older."
   ]
  },
  {
   "cell_type": "code",
   "execution_count": 13,
   "metadata": {},
   "outputs": [
    {
     "name": "stdout",
     "output_type": "stream",
     "text": [
      "vict_sex          F      M     X\n",
      "vict_descent                    \n",
      "A              21.0   11.0   0.0\n",
      "B             146.0  107.0   0.0\n",
      "H             239.0  139.0   0.0\n",
      "K              14.0    4.0   0.0\n",
      "O              38.0   58.0   0.0\n",
      "W              85.0  109.0   0.0\n",
      "X               0.0   10.0  12.0\n"
     ]
    }
   ],
   "source": [
    "counts = crime_df.groupby(['vict_descent', 'vict_sex'])['crm_cd'].count().unstack('vict_sex').fillna(0)\n",
    "print(counts)"
   ]
  },
  {
   "cell_type": "code",
   "execution_count": 14,
   "metadata": {},
   "outputs": [
    {
     "data": {
      "text/plain": [
       "<matplotlib.axes._subplots.AxesSubplot at 0x19e829b9128>"
      ]
     },
     "execution_count": 14,
     "metadata": {},
     "output_type": "execute_result"
    },
    {
     "data": {
      "image/png": "[encoded data removed]",
      "text/plain": [
       "<matplotlib.figure.Figure at 0x19e82b9a908>"
      ]
     },
     "metadata": {},
     "output_type": "display_data"
    }
   ],
   "source": [
    "counts[['F', 'M', 'X']].plot(kind='bar', stacked = True)"
   ]
  },
  {
   "cell_type": "markdown",
   "metadata": {},
   "source": [
    "Victims are more likely to be hispanic, white, or black. The counts of male and female victims are roughly equal with there being slightly more males."
   ]
  },
  {
   "cell_type": "code",
   "execution_count": 15,
   "metadata": {},
   "outputs": [
    {
     "name": "stdout",
     "output_type": "stream",
     "text": [
      "{'400': 'STRONG-ARM (HANDS, FIST, FEET OR BODILY FORCE)', nan: nan, '511': 'VERBAL THREAT', '500': 'UNKNOWN WEAPON/OTHER WEAPON', '200': 'KNIFE WITH BLADE 6INCHES OR LESS', '308': 'STICK', '102': 'HAND GUN', '212': 'BOTTLE', '307': 'VEHICLE', '111': 'STARTER PISTOL/REVOLVER', '106': 'UNKNOWN FIREARM', '207': 'OTHER KNIFE', '109': 'SEMI-AUTOMATIC PISTOL', '306': 'ROCK/THROWN OBJECT', '104': 'SHOTGUN', '122': 'HECKLER & KOCH 93 SEMIAUTOMATIC ASSAULT RIFLE', '503': 'CAUSTIC CHEMICAL/POISON', '304': 'CLUB/BAT', '219': 'SCREWDRIVER', '101': 'REVOLVER', '113': 'SIMULATED GUN', '218': 'OTHER CUTTING INSTRUMENT', '206': 'SWITCH BLADE', '108': 'AUTOMATIC WEAPON/SUB-MACHINE GUN', '205': 'KITCHEN KNIFE', '504': 'DEMAND NOTE', '513': 'STUN GUN', '512': 'MACE/PEPPER SPRAY', '507': 'LIQUOR/DRUGS', '216': 'SCISSORS', '515': 'PHYSICAL PRESENCE', '115': 'ASSAULT WEAPON/UZI/AK47/ETC', '309': 'BOARD', '221': 'GLASS', '204': 'FOLDING KNIFE', '312': 'PIPE/METAL PIPE', '103': 'RIFLE', '302': 'BLUNT INSTRUMENT', '208': 'RAZOR', '217': 'SWORD', '311': 'HAMMER', '107': 'OTHER FIREARM'}\n"
     ]
    },
    {
     "data": {
      "image/png": "[encoded data removed]",
      "text/plain": [
       "<matplotlib.figure.Figure at 0x19e82e86160>"
      ]
     },
     "metadata": {},
     "output_type": "display_data"
    }
   ],
   "source": [
    "weapon_cds = crime_df.weapon_used_cd.unique()\n",
    "weapon_names = crime_df.weapon_desc.unique()\n",
    "weapon_dict = dict(zip(weapon_cds, weapon_names))\n",
    "weapon_cd = crime_df['weapon_used_cd'].dropna()\n",
    "plt.figure(figsize=(10,5))\n",
    "print(weapon_dict)\n",
    "ax = sns.countplot(x=weapon_cd, data = crime_df)"
   ]
  },
  {
   "cell_type": "code",
   "execution_count": 16,
   "metadata": {},
   "outputs": [
    {
     "name": "stdout",
     "output_type": "stream",
     "text": [
      "0    2010-11-15T00:00:00.000\n",
      "1    2010-03-01T00:00:00.000\n",
      "2    2010-11-15T00:00:00.000\n",
      "3    2010-03-12T00:00:00.000\n",
      "4    2010-03-13T00:00:00.000\n",
      "Name: date_occ, dtype: object\n"
     ]
    }
   ],
   "source": [
    "print(crime_df['date_occ'].head())"
   ]
  }
 ],
 "metadata": {
  "kernelspec": {
   "display_name": "Python 3",
   "language": "python",
   "name": "python3"
  },
  "language_info": {
   "codemirror_mode": {
    "name": "ipython",
    "version": 3
   },
   "file_extension": ".py",
   "mimetype": "text/x-python",
   "name": "python",
   "nbconvert_exporter": "python",
   "pygments_lexer": "ipython3",
   "version": "3.6.4"
  }
 },
 "nbformat": 4,
 "nbformat_minor": 2
}
