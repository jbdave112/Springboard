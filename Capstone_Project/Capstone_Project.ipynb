{
 "cells": [
  {
   "cell_type": "markdown",
   "metadata": {},
   "source": [
    "# Introduction"
   ]
  },
  {
   "cell_type": "markdown",
   "metadata": {},
   "source": [
    "The purpose of this project is to examine crime data in Los Angeles. The data comes from the lacity's website. The dataset reflects incidents of crime in the City of Los Angeles dating back to 2010. The dataset is available via API."
   ]
  },
  {
   "cell_type": "markdown",
   "metadata": {},
   "source": [
    "Questions I will be examining\n",
    "1. Are certain areas more prone to crimes?\n",
    "2. Are there certain times where more crimes are occuring?\n",
    "3. Are there subpopulations which are more often targets of crime?\n",
    "4. What weapons are most often used?"
   ]
  },
  {
   "cell_type": "code",
   "execution_count": 1,
   "metadata": {},
   "outputs": [
    {
     "name": "stderr",
     "output_type": "stream",
     "text": [
      "C:\\Users\\Jai Dave\\Anaconda3\\lib\\site-packages\\statsmodels\\compat\\pandas.py:56: FutureWarning: The pandas.core.datetools module is deprecated and will be removed in a future version. Please use the pandas.tseries module instead.\n",
      "  from pandas.core import datetools\n"
     ]
    }
   ],
   "source": [
    "#Import relevant packages\n",
    "from sklearn.ensemble import RandomForestClassifier\n",
    "from sklearn.model_selection import train_test_split\n",
    "import pandas as pd\n",
    "import numpy as np\n",
    "import requests\n",
    "import seaborn as sns\n",
    "import matplotlib.pyplot as plt\n",
    "import os\n",
    "from sodapy import Socrata\n",
    "import statsmodels.api as sm\n",
    "import uszipcode\n",
    "import datetime\n",
    "from scipy import stats\n",
    "from sklearn.preprocessing import LabelEncoder\n",
    "from uszipcode import ZipcodeSearchEngine\n",
    "from geopy.geocoders import Nominatim\n",
    "from statsmodels.stats.outliers_influence import variance_inflation_factor\n",
    "import statsmodels.formula.api as sm\n",
    "from sklearn import metrics"
   ]
  },
  {
   "cell_type": "markdown",
   "metadata": {},
   "source": [
    "## Loading and Cleaning the Data"
   ]
  },
  {
   "cell_type": "code",
   "execution_count": 2,
   "metadata": {},
   "outputs": [
    {
     "name": "stdout",
     "output_type": "stream",
     "text": [
      "jbdave112@gmail.com\n"
     ]
    }
   ],
   "source": [
    "#Load environment variables\n",
    "un = os.environ.get(\"usn\")\n",
    "pwd = os.environ.get(\"pswd\")\n",
    "print(un)"
   ]
  },
  {
   "cell_type": "code",
   "execution_count": 3,
   "metadata": {},
   "outputs": [],
   "source": [
    "#Load data from La city's database\n",
    "client = Socrata('data.lacity.org', 'jc1TayctCju6pIwQcAsHYImnr', username=un, password=pwd)\n",
    "results = client.get(\"7fvc-faax\", limit = 1800000)\n",
    "crime_df = pd.DataFrame.from_records(results)"
   ]
  },
  {
   "cell_type": "code",
   "execution_count": 4,
   "metadata": {},
   "outputs": [
    {
     "data": {
      "text/html": [
       "<div>\n",
       "<style scoped>\n",
       "    .dataframe tbody tr th:only-of-type {\n",
       "        vertical-align: middle;\n",
       "    }\n",
       "\n",
       "    .dataframe tbody tr th {\n",
       "        vertical-align: top;\n",
       "    }\n",
       "\n",
       "    .dataframe thead th {\n",
       "        text-align: right;\n",
       "    }\n",
       "</style>\n",
       "<table border=\"1\" class=\"dataframe\">\n",
       "  <thead>\n",
       "    <tr style=\"text-align: right;\">\n",
       "      <th></th>\n",
       "      <th>area_id</th>\n",
       "      <th>area_name</th>\n",
       "      <th>crm_cd</th>\n",
       "      <th>crm_cd_1</th>\n",
       "      <th>crm_cd_2</th>\n",
       "      <th>crm_cd_3</th>\n",
       "      <th>crm_cd_4</th>\n",
       "      <th>crm_cd_desc</th>\n",
       "      <th>cross_street</th>\n",
       "      <th>date_occ</th>\n",
       "      <th>...</th>\n",
       "      <th>premis_desc</th>\n",
       "      <th>rpt_dist_no</th>\n",
       "      <th>status</th>\n",
       "      <th>status_desc</th>\n",
       "      <th>time_occ</th>\n",
       "      <th>vict_age</th>\n",
       "      <th>vict_descent</th>\n",
       "      <th>vict_sex</th>\n",
       "      <th>weapon_desc</th>\n",
       "      <th>weapon_used_cd</th>\n",
       "    </tr>\n",
       "  </thead>\n",
       "  <tbody>\n",
       "    <tr>\n",
       "      <th>0</th>\n",
       "      <td>01</td>\n",
       "      <td>Central</td>\n",
       "      <td>821</td>\n",
       "      <td>821</td>\n",
       "      <td>NaN</td>\n",
       "      <td>NaN</td>\n",
       "      <td>NaN</td>\n",
       "      <td>SODOMY/SEXUAL CONTACT B/W PENIS OF ONE PERS TO...</td>\n",
       "      <td>SAN PEDRO</td>\n",
       "      <td>2010-11-15T00:00:00.000</td>\n",
       "      <td>...</td>\n",
       "      <td>SIDEWALK</td>\n",
       "      <td>0157</td>\n",
       "      <td>AO</td>\n",
       "      <td>Adult Other</td>\n",
       "      <td>2045</td>\n",
       "      <td>30</td>\n",
       "      <td>H</td>\n",
       "      <td>M</td>\n",
       "      <td>STRONG-ARM (HANDS, FIST, FEET OR BODILY FORCE)</td>\n",
       "      <td>400</td>\n",
       "    </tr>\n",
       "    <tr>\n",
       "      <th>1</th>\n",
       "      <td>02</td>\n",
       "      <td>Rampart</td>\n",
       "      <td>810</td>\n",
       "      <td>810</td>\n",
       "      <td>NaN</td>\n",
       "      <td>NaN</td>\n",
       "      <td>NaN</td>\n",
       "      <td>SEX,UNLAWFUL(INC MUTUAL CONSENT, PENETRATION W...</td>\n",
       "      <td>NaN</td>\n",
       "      <td>2010-03-01T00:00:00.000</td>\n",
       "      <td>...</td>\n",
       "      <td>MULTI-UNIT DWELLING (APARTMENT, DUPLEX, ETC)</td>\n",
       "      <td>0248</td>\n",
       "      <td>AA</td>\n",
       "      <td>Adult Arrest</td>\n",
       "      <td>0001</td>\n",
       "      <td>11</td>\n",
       "      <td>H</td>\n",
       "      <td>F</td>\n",
       "      <td>STRONG-ARM (HANDS, FIST, FEET OR BODILY FORCE)</td>\n",
       "      <td>400</td>\n",
       "    </tr>\n",
       "    <tr>\n",
       "      <th>2</th>\n",
       "      <td>07</td>\n",
       "      <td>Wilshire</td>\n",
       "      <td>626</td>\n",
       "      <td>626</td>\n",
       "      <td>NaN</td>\n",
       "      <td>NaN</td>\n",
       "      <td>NaN</td>\n",
       "      <td>INTIMATE PARTNER - SIMPLE ASSAULT</td>\n",
       "      <td>NaN</td>\n",
       "      <td>2010-11-15T00:00:00.000</td>\n",
       "      <td>...</td>\n",
       "      <td>SINGLE FAMILY DWELLING</td>\n",
       "      <td>0782</td>\n",
       "      <td>AA</td>\n",
       "      <td>Adult Arrest</td>\n",
       "      <td>0030</td>\n",
       "      <td>49</td>\n",
       "      <td>H</td>\n",
       "      <td>F</td>\n",
       "      <td>NaN</td>\n",
       "      <td>NaN</td>\n",
       "    </tr>\n",
       "    <tr>\n",
       "      <th>3</th>\n",
       "      <td>07</td>\n",
       "      <td>Wilshire</td>\n",
       "      <td>930</td>\n",
       "      <td>930</td>\n",
       "      <td>NaN</td>\n",
       "      <td>NaN</td>\n",
       "      <td>NaN</td>\n",
       "      <td>CRIMINAL THREATS - NO WEAPON DISPLAYED</td>\n",
       "      <td>NaN</td>\n",
       "      <td>2010-03-12T00:00:00.000</td>\n",
       "      <td>...</td>\n",
       "      <td>PARK/PLAYGROUND</td>\n",
       "      <td>0724</td>\n",
       "      <td>AA</td>\n",
       "      <td>Adult Arrest</td>\n",
       "      <td>1050</td>\n",
       "      <td>41</td>\n",
       "      <td>B</td>\n",
       "      <td>M</td>\n",
       "      <td>VERBAL THREAT</td>\n",
       "      <td>511</td>\n",
       "    </tr>\n",
       "    <tr>\n",
       "      <th>4</th>\n",
       "      <td>07</td>\n",
       "      <td>Wilshire</td>\n",
       "      <td>626</td>\n",
       "      <td>626</td>\n",
       "      <td>NaN</td>\n",
       "      <td>NaN</td>\n",
       "      <td>NaN</td>\n",
       "      <td>INTIMATE PARTNER - SIMPLE ASSAULT</td>\n",
       "      <td>NaN</td>\n",
       "      <td>2010-03-13T00:00:00.000</td>\n",
       "      <td>...</td>\n",
       "      <td>MULTI-UNIT DWELLING (APARTMENT, DUPLEX, ETC)</td>\n",
       "      <td>0735</td>\n",
       "      <td>AA</td>\n",
       "      <td>Adult Arrest</td>\n",
       "      <td>0600</td>\n",
       "      <td>27</td>\n",
       "      <td>O</td>\n",
       "      <td>F</td>\n",
       "      <td>STRONG-ARM (HANDS, FIST, FEET OR BODILY FORCE)</td>\n",
       "      <td>400</td>\n",
       "    </tr>\n",
       "  </tbody>\n",
       "</table>\n",
       "<p>5 rows × 26 columns</p>\n",
       "</div>"
      ],
      "text/plain": [
       "  area_id area_name crm_cd crm_cd_1 crm_cd_2 crm_cd_3 crm_cd_4  \\\n",
       "0      01   Central    821      821      NaN      NaN      NaN   \n",
       "1      02   Rampart    810      810      NaN      NaN      NaN   \n",
       "2      07  Wilshire    626      626      NaN      NaN      NaN   \n",
       "3      07  Wilshire    930      930      NaN      NaN      NaN   \n",
       "4      07  Wilshire    626      626      NaN      NaN      NaN   \n",
       "\n",
       "                                         crm_cd_desc cross_street  \\\n",
       "0  SODOMY/SEXUAL CONTACT B/W PENIS OF ONE PERS TO...    SAN PEDRO   \n",
       "1  SEX,UNLAWFUL(INC MUTUAL CONSENT, PENETRATION W...          NaN   \n",
       "2                  INTIMATE PARTNER - SIMPLE ASSAULT          NaN   \n",
       "3             CRIMINAL THREATS - NO WEAPON DISPLAYED          NaN   \n",
       "4                  INTIMATE PARTNER - SIMPLE ASSAULT          NaN   \n",
       "\n",
       "                  date_occ      ...        \\\n",
       "0  2010-11-15T00:00:00.000      ...         \n",
       "1  2010-03-01T00:00:00.000      ...         \n",
       "2  2010-11-15T00:00:00.000      ...         \n",
       "3  2010-03-12T00:00:00.000      ...         \n",
       "4  2010-03-13T00:00:00.000      ...         \n",
       "\n",
       "                                    premis_desc rpt_dist_no status  \\\n",
       "0                                      SIDEWALK        0157     AO   \n",
       "1  MULTI-UNIT DWELLING (APARTMENT, DUPLEX, ETC)        0248     AA   \n",
       "2                        SINGLE FAMILY DWELLING        0782     AA   \n",
       "3                               PARK/PLAYGROUND        0724     AA   \n",
       "4  MULTI-UNIT DWELLING (APARTMENT, DUPLEX, ETC)        0735     AA   \n",
       "\n",
       "    status_desc time_occ vict_age vict_descent vict_sex  \\\n",
       "0   Adult Other     2045       30            H        M   \n",
       "1  Adult Arrest     0001       11            H        F   \n",
       "2  Adult Arrest     0030       49            H        F   \n",
       "3  Adult Arrest     1050       41            B        M   \n",
       "4  Adult Arrest     0600       27            O        F   \n",
       "\n",
       "                                      weapon_desc weapon_used_cd  \n",
       "0  STRONG-ARM (HANDS, FIST, FEET OR BODILY FORCE)            400  \n",
       "1  STRONG-ARM (HANDS, FIST, FEET OR BODILY FORCE)            400  \n",
       "2                                             NaN            NaN  \n",
       "3                                   VERBAL THREAT            511  \n",
       "4  STRONG-ARM (HANDS, FIST, FEET OR BODILY FORCE)            400  \n",
       "\n",
       "[5 rows x 26 columns]"
      ]
     },
     "execution_count": 4,
     "metadata": {},
     "output_type": "execute_result"
    }
   ],
   "source": [
    "#Examine the structure of the data\n",
    "crime_df.head()"
   ]
  },
  {
   "cell_type": "code",
   "execution_count": 5,
   "metadata": {
    "scrolled": true
   },
   "outputs": [],
   "source": [
    "#Drop columns with more than 70% of the data missing and coding columns, crm_cd_1 is the same as crm_cd so I will drop that as well\n",
    "crime_df= crime_df[[column for column in crime_df if crime_df[column].count() / len(crime_df) >= 0.3]]\n",
    "crime_df = crime_df.drop(['crm_cd_1'], 1)"
   ]
  },
  {
   "cell_type": "code",
   "execution_count": 6,
   "metadata": {},
   "outputs": [
    {
     "name": "stdout",
     "output_type": "stream",
     "text": [
      "<class 'pandas.core.frame.DataFrame'>\n",
      "RangeIndex: 1764551 entries, 0 to 1764550\n",
      "Data columns (total 21 columns):\n",
      "area_id           object\n",
      "area_name         object\n",
      "crm_cd            object\n",
      "crm_cd_desc       object\n",
      "date_occ          object\n",
      "date_rptd         object\n",
      "dr_no             object\n",
      "location          object\n",
      "location_1        object\n",
      "mocodes           object\n",
      "premis_cd         object\n",
      "premis_desc       object\n",
      "rpt_dist_no       object\n",
      "status            object\n",
      "status_desc       object\n",
      "time_occ          object\n",
      "vict_age          object\n",
      "vict_descent      object\n",
      "vict_sex          object\n",
      "weapon_desc       object\n",
      "weapon_used_cd    object\n",
      "dtypes: object(21)\n",
      "memory usage: 282.7+ MB\n"
     ]
    }
   ],
   "source": [
    "#Fill Premis Descriptions for which their is already a description assigned to a code, this will only work for rows with a premis code\n",
    "premise_codes = crime_df.premis_cd.unique()\n",
    "premise = crime_df.premis_desc.unique()\n",
    "premise_dict = dict(zip(premise_codes, premise))\n",
    "crime_df.premis_desc = crime_df.premis_desc.fillna(crime_df.premis_cd.map(premise_dict))\n",
    "crime_df.info()"
   ]
  },
  {
   "cell_type": "code",
   "execution_count": 7,
   "metadata": {},
   "outputs": [],
   "source": [
    "#Remove rows with an na value as the location\n",
    "crime_df = crime_df[pd.notnull(crime_df['location_1'])]"
   ]
  },
  {
   "cell_type": "code",
   "execution_count": 8,
   "metadata": {
    "scrolled": true
   },
   "outputs": [],
   "source": [
    "#Create columns containing longitude and latitude data\n",
    "def get_long(coordinates):\n",
    "    return coordinates['coordinates'][0]\n",
    "def get_lat(coordinates):\n",
    "    return coordinates['coordinates'][1]\n",
    "crime_df['longitude'] = crime_df['location_1'].apply(get_long)\n",
    "crime_df['latitude'] =crime_df['location_1'].apply(get_lat)"
   ]
  },
  {
   "cell_type": "code",
   "execution_count": 9,
   "metadata": {
    "scrolled": false
   },
   "outputs": [],
   "source": [
    "#Drop rows with (0,0) location data\n",
    "crime_df = crime_df[crime_df.longitude != 0]"
   ]
  },
  {
   "cell_type": "code",
   "execution_count": null,
   "metadata": {},
   "outputs": [],
   "source": [
    "#Create a column that contains the zipcode where the crime occurred\n",
    "search = ZipcodeSearchEngine()\n",
    "def get_zip(latitude, longitude):\n",
    "    res = search.by_coordinate(latitude, longitude, radius=30, returns=1)\n",
    "    return res[0]['Zipcode']\n",
    "crime_df['zipcode'] = crime_df.apply(lambda x: get_zip(x['latitude'], x['longitude']), axis=1)"
   ]
  },
  {
   "cell_type": "code",
   "execution_count": 11,
   "metadata": {},
   "outputs": [
    {
     "data": {
      "text/plain": [
       "0    90013\n",
       "1    90017\n",
       "2    90035\n",
       "3    90036\n",
       "4    90036\n",
       "Name: zipcode, dtype: object"
      ]
     },
     "execution_count": 11,
     "metadata": {},
     "output_type": "execute_result"
    }
   ],
   "source": [
    "crime_df['zipcode'].head()"
   ]
  },
  {
   "cell_type": "markdown",
   "metadata": {},
   "source": [
    "## Crime Over Time"
   ]
  },
  {
   "cell_type": "code",
   "execution_count": 12,
   "metadata": {},
   "outputs": [],
   "source": [
    "#Change time format\n",
    "crime_df['time'] = crime_df['time_occ'].str[0:2] + ':' + crime_df['time_occ'].str[2:4]"
   ]
  },
  {
   "cell_type": "code",
   "execution_count": 13,
   "metadata": {},
   "outputs": [],
   "source": [
    "#Combine time and date columns\n",
    "crime_df['dt'] = crime_df['date_occ'].str[0:10] + ' ' + crime_df['time']"
   ]
  },
  {
   "cell_type": "code",
   "execution_count": 14,
   "metadata": {},
   "outputs": [
    {
     "data": {
      "text/plain": [
       "Text(0.5,0,'Year')"
      ]
     },
     "execution_count": 14,
     "metadata": {},
     "output_type": "execute_result"
    },
    {
     "data": {
      "image/png": "[encoded data removed]",
      "text/plain": [
       "<matplotlib.figure.Figure at 0x252c27da630>"
      ]
     },
     "metadata": {},
     "output_type": "display_data"
    }
   ],
   "source": [
    "#Create datetime\n",
    "time_format = '%Y-%m-%d %H:%M'\n",
    "crime_df['date'] = pd.to_datetime(crime_df['dt'], format = time_format)\n",
    "\n",
    "#Create a dataframe with the date column created above\n",
    "time_df = crime_df.loc[:, ['date']]\n",
    "\n",
    "#Exclude latest month as the month is not over yet\n",
    "time_df = time_df.loc[~(time_df['date'].dt.month.eq(6) & time_df['date'].dt.year.eq(2018))]\n",
    "\n",
    "#Reindex with the date and plot data by month\n",
    "time_df.index = time_df['date']\n",
    "time_df.resample('M').count().plot(figsize=(20,10), linewidth=5, fontsize=20)\n",
    "plt.xlabel('Year', fontsize=20)"
   ]
  },
  {
   "cell_type": "code",
   "execution_count": 15,
   "metadata": {},
   "outputs": [],
   "source": [
    "#Group time by hour\n",
    "crime_df['hour'] = [r.hour for r in crime_df.date]"
   ]
  },
  {
   "cell_type": "markdown",
   "metadata": {},
   "source": [
    "## Crimes and Weapons Used"
   ]
  },
  {
   "cell_type": "code",
   "execution_count": 16,
   "metadata": {
    "scrolled": true
   },
   "outputs": [
    {
     "data": {
      "text/plain": [
       "crm_cd_desc\n",
       "BATTERY - SIMPLE ASSAULT                                        160370\n",
       "BURGLARY FROM VEHICLE                                           135071\n",
       "VEHICLE - STOLEN                                                135045\n",
       "BURGLARY                                                        126020\n",
       "THEFT PLAIN - PETTY ($950 & UNDER)                              124792\n",
       "THEFT OF IDENTITY                                               109815\n",
       "INTIMATE PARTNER - SIMPLE ASSAULT                                95082\n",
       "VANDALISM - FELONY ($400 & OVER, ALL CHURCH VANDALISMS) 0114     87822\n",
       "VANDALISM - MISDEAMEANOR ($399 OR UNDER)                         77994\n",
       "ASSAULT WITH DEADLY WEAPON, AGGRAVATED ASSAULT                   75487\n",
       "Name: crm_cd, dtype: int64"
      ]
     },
     "execution_count": 16,
     "metadata": {},
     "output_type": "execute_result"
    }
   ],
   "source": [
    "#The ten most frequent crimes in LA since 2010\n",
    "crime_df.groupby('crm_cd_desc').crm_cd.count().sort_values(ascending=False).head(10)"
   ]
  },
  {
   "cell_type": "markdown",
   "metadata": {},
   "source": [
    "To identify what weapons are frequently used, I will isolate the crime_cd_desc \"Assault with deadly weapon, aggravated assault\" and get counts for the different weapons used. Crime code 230 corresponds to Assault with a deadly weapon, aggravated assault."
   ]
  },
  {
   "cell_type": "code",
   "execution_count": 17,
   "metadata": {},
   "outputs": [],
   "source": [
    "#Weapons used frequently for Assaults\n",
    "weapons = crime_df[crime_df['crm_cd']=='230']"
   ]
  },
  {
   "cell_type": "code",
   "execution_count": 18,
   "metadata": {},
   "outputs": [
    {
     "data": {
      "image/png": "[encoded data removed]",
      "text/plain": [
       "<matplotlib.figure.Figure at 0x25281b0a5c0>"
      ]
     },
     "metadata": {},
     "output_type": "display_data"
    }
   ],
   "source": [
    "#Plot most frequently used weapons for assaults\n",
    "ax = weapons['weapon_desc'].value_counts()[:10].plot(kind='barh', title = 'Assault by Weapon')"
   ]
  },
  {
   "cell_type": "markdown",
   "metadata": {},
   "source": [
    "From the plot above one can see that hand guns are the most used weapon in crimes coded as \"Assault with deadly weapon, aggravated assault\". Los Angeles has an anonymous gun buy back program. Perhaps by creating similar programs or increasing awareness of the program would reduce the number of assaults with the use of a gun."
   ]
  },
  {
   "cell_type": "markdown",
   "metadata": {},
   "source": [
    "## Crimes by Location"
   ]
  },
  {
   "cell_type": "code",
   "execution_count": 19,
   "metadata": {},
   "outputs": [
    {
     "name": "stdout",
     "output_type": "stream",
     "text": [
      "{'01': 'Central', '02': 'Rampart', '07': 'Wilshire', '08': 'West LA', '20': 'Olympic', '03': 'Southwest', '09': 'Van Nuys', '16': 'Foothill', '18': 'Southeast', '21': 'Topanga', '10': 'West Valley', '12': '77th Street', '13': 'Newton', '15': 'N Hollywood', '04': 'Hollenbeck', '05': 'Harbor', '06': 'Hollywood', '17': 'Devonshire', '11': 'Northeast', '14': 'Pacific', '19': 'Mission'}\n"
     ]
    },
    {
     "data": {
      "image/png": "[encoded data removed]",
      "text/plain": [
       "<matplotlib.figure.Figure at 0x2528c33cb38>"
      ]
     },
     "metadata": {},
     "output_type": "display_data"
    }
   ],
   "source": [
    "#Get Distinct area ids and area names\n",
    "area_ids = crime_df.area_id.unique()\n",
    "area_names = crime_df.area_name.unique()\n",
    "\n",
    "#Create dictionay with area id as the key and area name as the value\n",
    "area_dict = dict(zip(area_ids, area_names))\n",
    "print(area_dict)\n",
    "\n",
    "#Plot the count of crimes in each area\n",
    "sns.set(style=\"darkgrid\")\n",
    "ax = sns.countplot(x='area_id', data = crime_df)"
   ]
  },
  {
   "cell_type": "code",
   "execution_count": 81,
   "metadata": {},
   "outputs": [
    {
     "data": {
      "text/plain": [
       "area_name\n",
       "77th Street    122414\n",
       "Central         76411\n",
       "Devonshire      81342\n",
       "Foothill        67279\n",
       "Harbor          78011\n",
       "Hollenbeck      64095\n",
       "Hollywood       80751\n",
       "Mission         88063\n",
       "N Hollywood     95514\n",
       "Newton          82513\n",
       "Northeast       84539\n",
       "Olympic         78571\n",
       "Pacific         92549\n",
       "Rampart         74302\n",
       "Southeast       92354\n",
       "Southwest      113127\n",
       "Topanga         81462\n",
       "Van Nuys        83745\n",
       "West LA         73416\n",
       "West Valley     75167\n",
       "Wilshire        71643\n",
       "Name: crm_cd, dtype: int64"
      ]
     },
     "execution_count": 81,
     "metadata": {},
     "output_type": "execute_result"
    }
   ],
   "source": [
    "crime_df.groupby('area_name')['crm_cd'].count()"
   ]
  },
  {
   "cell_type": "markdown",
   "metadata": {},
   "source": [
    "Areas with significantly more crimes are \"77th street\" and the \"Southwest region\". From this graph we can not tell if this is a result of those areas containing a larger share of LA's population. To test this I will use a proportion test using data taken from the LAPD's website. According to the website the 77th street area has a population of approximately 175,000. According to the United States Census Bureau Los Angles has a population of approxiately 3,976,000. To test if the 77th street area is more prone to crime I will do a proportion z test. http://www.lapdonline.org/77th_street_community_police_station/content_basic_view/1573"
   ]
  },
  {
   "cell_type": "code",
   "execution_count": 20,
   "metadata": {},
   "outputs": [],
   "source": [
    "from statsmodels.stats.proportion import proportions_ztest"
   ]
  },
  {
   "cell_type": "code",
   "execution_count": 21,
   "metadata": {},
   "outputs": [
    {
     "name": "stdout",
     "output_type": "stream",
     "text": [
      "127.66535178432935 0.0\n"
     ]
    }
   ],
   "source": [
    "#Calculate the total amount of crimes in the dataset and the total count of crimes in 77th street area\n",
    "total_count = crime_df.crm_cd.count()\n",
    "Area_77 = crime_df[crime_df['area_id']=='12']['crm_cd']\n",
    "count_77 = Area_77.count()\n",
    "\n",
    "\"\"\"Use a proportion test to check if the proportion of crimes occuring in the 77th street are significantly different than \n",
    "the proportion of the population that lives there\"\"\"\n",
    "z_score, p_value = proportions_ztest([count_77, 175000], [total_count, 3976000])\n",
    "print(z_score, p_value)"
   ]
  },
  {
   "cell_type": "markdown",
   "metadata": {},
   "source": [
    "From this test we can see that the proportion of crimes that occur in 77th street community is significantly different to the proportion of individuals who live there compared to LA as a whole."
   ]
  },
  {
   "cell_type": "code",
   "execution_count": 22,
   "metadata": {},
   "outputs": [
    {
     "data": {
      "text/plain": [
       "crm_cd_desc\n",
       "BATTERY - SIMPLE ASSAULT                          13218\n",
       "VEHICLE - STOLEN                                  10948\n",
       "ASSAULT WITH DEADLY WEAPON, AGGRAVATED ASSAULT     9880\n",
       "ROBBERY                                            8686\n",
       "BURGLARY                                           8481\n",
       "INTIMATE PARTNER - SIMPLE ASSAULT                  8053\n",
       "BURGLARY FROM VEHICLE                              6440\n",
       "VANDALISM - MISDEAMEANOR ($399 OR UNDER)           5918\n",
       "THEFT PLAIN - PETTY ($950 & UNDER)                 5805\n",
       "THEFT OF IDENTITY                                  5577\n",
       "Name: crm_cd, dtype: int64"
      ]
     },
     "execution_count": 22,
     "metadata": {},
     "output_type": "execute_result"
    }
   ],
   "source": [
    "#Obtain the ten most frequent crimes in the 77th street area\n",
    "crime_df[crime_df['area_id']=='12'].groupby('crm_cd_desc').crm_cd.count().sort_values(ascending=False).head(10)"
   ]
  },
  {
   "cell_type": "markdown",
   "metadata": {},
   "source": [
    "In the 77th street area Assault with a deadly weapon is the third most common crime. Below I will test if the proportion of assaults in this area are significantly different than the proportions of the entire dataset."
   ]
  },
  {
   "cell_type": "code",
   "execution_count": 23,
   "metadata": {},
   "outputs": [
    {
     "name": "stdout",
     "output_type": "stream",
     "text": [
      "61.338112675024625 0.0\n"
     ]
    }
   ],
   "source": [
    "#Filter dataset for assaults in the 77th street area\n",
    "Area_77_Assaults = crime_df[(crime_df['crm_cd']=='230') & (crime_df['area_id'] == '12')]['crm_cd']\n",
    "\n",
    "\"\"\"Obtain the count of the total number of crimes occuring in the 77th st area, the number of assaults in the 77th st area,\n",
    "and the number of assaults that occur across all areas\"\"\"\n",
    "Total_Area_count = crime_df[crime_df['area_id']=='12']['crm_cd'].count()\n",
    "Area_Assault_count = Area_77_Assaults.count()\n",
    "Total_Assault_count = crime_df[crime_df['crm_cd']=='230']['crm_cd'].count()\n",
    "\n",
    "#Use a proportion test to determine if assaults are a larger proportion of the total crimes in the 77th St. Area\n",
    "z_score, p_value = proportions_ztest([Area_Assault_count, Total_Assault_count], [Total_Area_count, total_count])\n",
    "print(z_score, p_value)"
   ]
  },
  {
   "cell_type": "markdown",
   "metadata": {},
   "source": [
    "From the above proportion test we can see that Assaults are more likely to occur in the 77th Street Area than in Los Angeles as a whole."
   ]
  },
  {
   "cell_type": "code",
   "execution_count": 24,
   "metadata": {
    "scrolled": true
   },
   "outputs": [
    {
     "data": {
      "image/png": "[encoded data removed]",
      "text/plain": [
       "<matplotlib.figure.Figure at 0x25281c3d5c0>"
      ]
     },
     "metadata": {},
     "output_type": "display_data"
    }
   ],
   "source": [
    "#Weapons most frequently used for assaults in the 77th area\n",
    "area_weapons = crime_df[(crime_df['crm_cd']=='230') & (crime_df['area_id'] == '12')]\n",
    "area_weapons.groupby('weapon_desc').crm_cd.count().sort_values(ascending=False).head(10)\n",
    "ax = area_weapons['weapon_desc'].value_counts()[:10].plot(kind='barh', title = 'Weapons Used in the 77th Street District')"
   ]
  },
  {
   "cell_type": "markdown",
   "metadata": {},
   "source": [
    "From the graph above we can see that the number of assaults with the use of hand guns far far surpasses all other types of assaults. Focusing on getting guns off the streets targeted at this area may help lower the number of assaults with the use of a firearm."
   ]
  },
  {
   "cell_type": "markdown",
   "metadata": {},
   "source": [
    "## When Crimes Occur"
   ]
  },
  {
   "cell_type": "code",
   "execution_count": 25,
   "metadata": {},
   "outputs": [
    {
     "data": {
      "image/png": "[encoded data removed]",
      "text/plain": [
       "<matplotlib.figure.Figure at 0x25281b17710>"
      ]
     },
     "metadata": {},
     "output_type": "display_data"
    }
   ],
   "source": [
    "#Put the time crimes occur into buckets\n",
    "crime_df['time'] = pd.to_numeric(crime_df['time_occ'])\n",
    "def label_time(row):\n",
    "    if 500 <= row < 800:\n",
    "        return 'Early_Morning'\n",
    "    elif 800 <= row < 1100:\n",
    "        return 'Morning'\n",
    "    elif 1100 <= row < 1400:\n",
    "        return 'Around_Noon'\n",
    "    elif 1400 <= row < 1700:\n",
    "        return 'Late_Afternoon'\n",
    "    elif 1700 <= row < 2000:\n",
    "        return 'Evening'\n",
    "    elif 2000 <= row < 2300:\n",
    "        return 'Late_Evening'\n",
    "    elif 2300 <= row <= 2400 or 0 <= row < 200:\n",
    "        return 'Night'\n",
    "    elif 200 <= row < 500:\n",
    "        return 'Late_Night'\n",
    "    else:\n",
    "        return 'Other'\n",
    "\n",
    "#Create new column based on function above\n",
    "crime_df['time_groups'] = crime_df['time'].apply(label_time)\n",
    "plt.figure(figsize=(10,5))\n",
    "axis = sns.countplot(x = 'time_groups', data = crime_df, order = ['Early_Morning', 'Morning', 'Around_Noon', 'Late_Afternoon', 'Evening', 'Late_Evening', 'Night', 'Late_Night'])"
   ]
  },
  {
   "cell_type": "code",
   "execution_count": 26,
   "metadata": {},
   "outputs": [],
   "source": [
    "#Get day of the week\n",
    "def day_convert(date):\n",
    "    return date.strftime(\"%A\")\n",
    "\n",
    "#Create column that contains the day of each crime\n",
    "crime_df['day'] = crime_df['date'].apply(day_convert)"
   ]
  },
  {
   "cell_type": "code",
   "execution_count": 27,
   "metadata": {},
   "outputs": [],
   "source": [
    "#Create larger bins to see if more crimes are occuring at a certain time of day for specific days\n",
    "def label_time(row):\n",
    "    if 400 <= row < 1200:\n",
    "        return 'Morning'\n",
    "    elif 1200 <= row < 2000:\n",
    "        return 'Afternoon'\n",
    "    elif 2000 <= row < 2400 or 0<=row < 400:\n",
    "        return 'Night'\n",
    "    \n",
    "#Create a new column based on formula above\n",
    "crime_df['time_groups_2'] = crime_df['time'].apply(label_time)"
   ]
  },
  {
   "cell_type": "code",
   "execution_count": 28,
   "metadata": {},
   "outputs": [
    {
     "data": {
      "text/plain": [
       "Text(0,0.5,'Crime Count')"
      ]
     },
     "execution_count": 28,
     "metadata": {},
     "output_type": "execute_result"
    },
    {
     "data": {
      "image/png": "[encoded data removed]",
      "text/plain": [
       "<matplotlib.figure.Figure at 0x25291a99c18>"
      ]
     },
     "metadata": {},
     "output_type": "display_data"
    }
   ],
   "source": [
    "counts = crime_df.groupby(['day', 'time_groups_2'])['crm_cd'].count().unstack('time_groups_2').fillna(0)\n",
    "m = [\"Sunday\", \"Monday\", \"Tuesday\", \"Wednesday\", \"Thursday\", \"Friday\", \"Saturday\"]\n",
    "counts = counts.reindex(m)\n",
    "ax = counts[['Morning', 'Afternoon', 'Night']].plot(kind='bar', stacked = True, figsize=(15,10), title = 'Crime by Day and Time', rot=0)\n",
    "ax.set_xlabel(\"Days of the Week\")\n",
    "ax.set_ylabel(\"Crime Count\")"
   ]
  },
  {
   "cell_type": "markdown",
   "metadata": {},
   "source": [
    "It appears that crimes are evenly spread between days with a small spike on Fridays. Fridays appear to have more crimes occuring in the afternoon. The below test exams if the increase in crime on Fridays is significant."
   ]
  },
  {
   "cell_type": "code",
   "execution_count": 29,
   "metadata": {},
   "outputs": [
    {
     "name": "stdout",
     "output_type": "stream",
     "text": [
      "30.04267854681535 2.7211811528343043e-198\n"
     ]
    }
   ],
   "source": [
    "#Proportion test to see if more crimes occur on Fridays\n",
    "Friday_count = crime_df[crime_df['day']=='Friday']['crm_cd'].count()\n",
    "z_score, p_value = proportions_ztest([Friday_count, (total_count/7)], [total_count, total_count])\n",
    "print(z_score, p_value)"
   ]
  },
  {
   "cell_type": "markdown",
   "metadata": {},
   "source": [
    "From the test above we can see that Friday has a statistically significant increase in crimes over other days. It appears the difference is in the afternoon. Below I will examine what crimes have the largest spikes on Friday afternoon."
   ]
  },
  {
   "cell_type": "code",
   "execution_count": 30,
   "metadata": {},
   "outputs": [
    {
     "data": {
      "text/plain": [
       "crm_cd_desc\n",
       "THEFT PLAIN - PETTY ($950 & UNDER)                              10906\n",
       "BATTERY - SIMPLE ASSAULT                                        10632\n",
       "BURGLARY                                                         9927\n",
       "THEFT OF IDENTITY                                                9766\n",
       "VEHICLE - STOLEN                                                 8398\n",
       "BURGLARY FROM VEHICLE                                            8148\n",
       "VANDALISM - FELONY ($400 & OVER, ALL CHURCH VANDALISMS) 0114     5715\n",
       "THEFT-GRAND ($950.01 & OVER)EXCPT,GUNS,FOWL,LIVESTK,PROD0036     5565\n",
       "THEFT FROM MOTOR VEHICLE - PETTY ($950 & UNDER)                  5209\n",
       "VANDALISM - MISDEAMEANOR ($399 OR UNDER)                         5045\n",
       "Name: crm_cd, dtype: int64"
      ]
     },
     "execution_count": 30,
     "metadata": {},
     "output_type": "execute_result"
    }
   ],
   "source": [
    "#The most common crimes occuring on Friday afternoons\n",
    "Friday_Afternoon = crime_df[(crime_df['day']=='Friday') & (crime_df['time_groups_2'] == 'Afternoon')]\n",
    "Friday_Afternoon.groupby('crm_cd_desc').crm_cd.count().sort_values(ascending=False).head(10)"
   ]
  },
  {
   "cell_type": "markdown",
   "metadata": {},
   "source": [
    "Comparing the most common crimes on Friday afternoons to the most common crimes in general it apperas that different types of theft are more common on Friday afternoons. This could possibly be because individuals have debts that are due at the end of the workweek and out of desperation turn to crime."
   ]
  },
  {
   "cell_type": "markdown",
   "metadata": {},
   "source": [
    "## Victim Demographics"
   ]
  },
  {
   "cell_type": "code",
   "execution_count": 31,
   "metadata": {
    "scrolled": true
   },
   "outputs": [
    {
     "name": "stdout",
     "output_type": "stream",
     "text": [
      "35.98612865199046\n",
      "34.0\n"
     ]
    }
   ],
   "source": [
    "#Convert age to numerics and calculate the mean and median\n",
    "crime_df['age'] = pd.to_numeric(crime_df['vict_age'])\n",
    "age_mean = crime_df['age'].mean()\n",
    "age_median = crime_df['age'].median()\n",
    "print(age_mean)\n",
    "print(age_median)"
   ]
  },
  {
   "cell_type": "code",
   "execution_count": 32,
   "metadata": {},
   "outputs": [
    {
     "data": {
      "image/png": "[encoded data removed]",
      "text/plain": [
       "<matplotlib.figure.Figure at 0x25291a98f28>"
      ]
     },
     "metadata": {},
     "output_type": "display_data"
    }
   ],
   "source": [
    "#Examine the distribution of age for victims\n",
    "plt.xlabel('Age')\n",
    "plt.title('Age of Victims')\n",
    "plt.xticks(range(0, 100, 10))\n",
    "plt.hist(crime_df['age'].dropna(), bins=20, density = True, stacked = True, color = 'teal', alpha = .6)\n",
    "plt.show()"
   ]
  },
  {
   "cell_type": "markdown",
   "metadata": {},
   "source": [
    "From this histogram we can see that the portion of the population that are the most victimized are those in their late 20s and early 30s and the risk of victimization appears to drop as individuals get older. "
   ]
  },
  {
   "cell_type": "code",
   "execution_count": 33,
   "metadata": {},
   "outputs": [
    {
     "name": "stdout",
     "output_type": "stream",
     "text": [
      "vict_sex             F         M\n",
      "vict_descent                    \n",
      "B             163497.0  117738.0\n",
      "H             308082.0  299378.0\n",
      "O              58255.0  111693.0\n",
      "W             186928.0  244212.0\n"
     ]
    }
   ],
   "source": [
    "#Calculate the amount of crimes by victim descent and victim sex\n",
    "counts = crime_df.groupby(['vict_descent', 'vict_sex'])['crm_cd'].count().sort_values(ascending=False).head(8).unstack('vict_sex').fillna(0)\n",
    "print(counts)"
   ]
  },
  {
   "cell_type": "code",
   "execution_count": 34,
   "metadata": {},
   "outputs": [
    {
     "data": {
      "text/plain": [
       "[Text(0,0,'Black'), Text(0,0,'Latino'), Text(0,0,'Other'), Text(0,0,'White')]"
      ]
     },
     "execution_count": 34,
     "metadata": {},
     "output_type": "execute_result"
    },
    {
     "data": {
      "image/png": "[encoded data removed]",
      "text/plain": [
       "<matplotlib.figure.Figure at 0x25291a99dd8>"
      ]
     },
     "metadata": {},
     "output_type": "display_data"
    }
   ],
   "source": [
    "ax = counts[['F', 'M']].plot(kind='bar', stacked = True,figsize=(10,5), title = 'Crime by Victim_Descent and Sex', rot=0)\n",
    "ax.set_xlabel('Victim Descent')\n",
    "ax.set_ylabel('Crime Count')\n",
    "ax.set_xticklabels( ('Black', 'Latino','Other', 'White') )"
   ]
  },
  {
   "cell_type": "markdown",
   "metadata": {},
   "source": [
    "Victims are more likely to be hispanic, white, or black. \n",
    "Among black victims females outnumber males. This could possibly be because black victims are less likely to report a crime. This leads me to believe that the number of crimes against the black population is greater than what the data shows.\n",
    "Among white victims it appears that white males are more likely to be victim of crimes than males."
   ]
  },
  {
   "cell_type": "code",
   "execution_count": 35,
   "metadata": {
    "scrolled": true
   },
   "outputs": [
    {
     "data": {
      "text/plain": [
       "crm_cd_desc\n",
       "ASSAULT WITH DEADLY WEAPON, AGGRAVATED ASSAULT    2897\n",
       "BATTERY - SIMPLE ASSAULT                          2234\n",
       "ROBBERY                                           1387\n",
       "THEFT PLAIN - PETTY ($950 & UNDER)                1110\n",
       "INTIMATE PARTNER - SIMPLE ASSAULT                 1039\n",
       "Name: crm_cd, dtype: int64"
      ]
     },
     "execution_count": 35,
     "metadata": {},
     "output_type": "execute_result"
    }
   ],
   "source": [
    "#Crimes most expiereince by homeless individuals. 1218 refers to an mocode that indicates a homeless victim\n",
    "crime_df[crime_df['mocodes'].str.contains('1218', na=False)].groupby('crm_cd_desc').crm_cd.count().sort_values(ascending=False).head()"
   ]
  },
  {
   "cell_type": "markdown",
   "metadata": {},
   "source": [
    "Three of the five most common crimes experienced by homeless indiviuals is assault suggesting  that a larger proportion of crimes against homeless individuals are assaults"
   ]
  },
  {
   "cell_type": "markdown",
   "metadata": {},
   "source": [
    "### Preproccess Data for predicitve modeling"
   ]
  },
  {
   "cell_type": "markdown",
   "metadata": {},
   "source": [
    "Next I will examine the possible relationship between zipcode and other variables. It is my hope that we can predict the zipcode a crime will occur based on other features"
   ]
  },
  {
   "cell_type": "code",
   "execution_count": 36,
   "metadata": {},
   "outputs": [],
   "source": [
    "#Encode Dependent Variable zipcode as numbers and store in dataframe\n",
    "number = LabelEncoder()\n",
    "crime_df['target'] = number.fit_transform(crime_df['zipcode'].astype('str'))\n",
    "label = crime_df['target']"
   ]
  },
  {
   "cell_type": "code",
   "execution_count": 37,
   "metadata": {},
   "outputs": [],
   "source": [
    "#There are many different crime types. To make the model manageable I will group less common crime types\n",
    "not_top = crime_df.groupby('crm_cd').crm_cd.count().sort_values(ascending=False).index[10:]\n",
    "dfnew  = crime_df.replace(not_top, 'Other')"
   ]
  },
  {
   "cell_type": "code",
   "execution_count": 38,
   "metadata": {},
   "outputs": [],
   "source": [
    "#Group time by hour\n",
    "crime_df['month'] = [r.month for r in crime_df.date]"
   ]
  },
  {
   "cell_type": "code",
   "execution_count": 39,
   "metadata": {},
   "outputs": [],
   "source": [
    "\"\"\"Create features dataframe which includes dummy variables for categorical variables: day of the week, time of the day,type of\n",
    " crime and district\"\"\"\n",
    "features = pd.get_dummies(crime_df.area_name, prefix = 'area').iloc[:, 1:]\n",
    "days_dm = pd.get_dummies(crime_df.day, prefix = 'day').iloc[:, 1:]\n",
    "hour_dm = pd.get_dummies(crime_df.time_groups, prefix = 'time').iloc[:, 1:]\n",
    "crm_dm = pd.get_dummies(crime_df.crm_cd, prefix = 'crm_cd').iloc[:, 1:]\n",
    "features = pd.concat([features, hour_dm, days_dm, crm_dm], axis = 1)"
   ]
  },
  {
   "cell_type": "markdown",
   "metadata": {},
   "source": [
    "### Create Random Forest Classifier to predict the zip code a crime will occur in "
   ]
  },
  {
   "cell_type": "code",
   "execution_count": null,
   "metadata": {},
   "outputs": [],
   "source": [
    "#Split dataset into train and test sets, create RandomForestClassifier, and train model\n",
    "X_train, X_test, y_train, y_test = train_test_split(features, label, test_size=0.25)\n",
    "\n",
    "#Create classifier\n",
    "clf = RandomForestClassifier(n_estimators = 10)\n",
    "\n",
    "#Train the model\n",
    "clf.fit(X_train, y_train)\n",
    "\n",
    "y_pred = clf.predict(X_test)"
   ]
  },
  {
   "cell_type": "code",
   "execution_count": null,
   "metadata": {},
   "outputs": [],
   "source": [
    "#Calculate how often the classifier is correct\n",
    "print(\"Accuracy:\",metrics.accuracy_score(y_test, y_pred))"
   ]
  },
  {
   "cell_type": "code",
   "execution_count": 40,
   "metadata": {},
   "outputs": [],
   "source": [
    "#Create new model using month instead of crime type\n",
    "features2 = pd.get_dummies(crime_df.area_name, prefix = 'area').iloc[:, 1:]\n",
    "days_dm = pd.get_dummies(crime_df.day, prefix = 'day').iloc[:, 1:]\n",
    "time_dm = pd.get_dummies(crime_df.time_groups, prefix = 'time_groups').iloc[:, 1:]\n",
    "month_dm = pd.get_dummies(crime_df.month, prefix='month').iloc[:, 1:]\n",
    "features2 = pd.concat([features2, time_dm, days_dm, month_dm], axis = 1)"
   ]
  },
  {
   "cell_type": "code",
   "execution_count": 41,
   "metadata": {},
   "outputs": [],
   "source": [
    "#Split dataset into train and test sets, create RandomForestClassifier, and train model\n",
    "X_train, X_test, y_train, y_test = train_test_split(features2, label, test_size=0.25)\n",
    "\n",
    "#Create classifier\n",
    "clf = RandomForestClassifier(n_estimators = 10)\n",
    "\n",
    "#Train the model\n",
    "clf.fit(X_train, y_train)\n",
    "\n",
    "y_pred = clf.predict(X_test)"
   ]
  },
  {
   "cell_type": "code",
   "execution_count": 42,
   "metadata": {},
   "outputs": [
    {
     "name": "stdout",
     "output_type": "stream",
     "text": [
      "Accuracy: 0.2912361688712251\n"
     ]
    }
   ],
   "source": [
    "#Calculate how often the classifier is correct\n",
    "print(\"Accuracy:\",metrics.accuracy_score(y_test, y_pred))"
   ]
  },
  {
   "cell_type": "markdown",
   "metadata": {},
   "source": [
    "Next I will examine a subset of the dataset. Here I will look specifically at one district: 77th Street"
   ]
  },
  {
   "cell_type": "code",
   "execution_count": 43,
   "metadata": {},
   "outputs": [],
   "source": [
    "#Create dataframe\n",
    "df_77 = crime_df[crime_df['area_id']=='12']"
   ]
  },
  {
   "cell_type": "code",
   "execution_count": 44,
   "metadata": {},
   "outputs": [],
   "source": [
    "#Create features dataframe which includes dummy variables for categorical variables: time, month, and day\n",
    "label2 = df_77['target']\n",
    "features3 = pd.get_dummies(df_77.day, prefix = 'day').iloc[:, 1:]\n",
    "hour_dm = pd.get_dummies(df_77.time_groups, prefix = 'hour').iloc[:, 1:]\n",
    "month_dm = pd.get_dummies(df_77.month, prefix='month').iloc[:, 1:]\n",
    "features3 = pd.concat([features3, hour_dm, month_dm], axis = 1)"
   ]
  },
  {
   "cell_type": "code",
   "execution_count": 45,
   "metadata": {},
   "outputs": [],
   "source": [
    "#Split dataset into train and test sets, create RandomForestClassifier, and train model\n",
    "X_train, X_test, y_train, y_test = train_test_split(features3, label2, test_size=0.25)\n",
    "\n",
    "#Create classifier\n",
    "clf = RandomForestClassifier(n_estimators = 10)\n",
    "\n",
    "#Train the model\n",
    "clf.fit(X_train, y_train)\n",
    "\n",
    "y_pred = clf.predict(X_test)"
   ]
  },
  {
   "cell_type": "code",
   "execution_count": 46,
   "metadata": {},
   "outputs": [
    {
     "name": "stdout",
     "output_type": "stream",
     "text": [
      "Accuracy: 0.3219840543719775\n"
     ]
    }
   ],
   "source": [
    "#How often is the classifier correct\n",
    "print(\"Accuracy:\",metrics.accuracy_score(y_test, y_pred))"
   ]
  },
  {
   "cell_type": "code",
   "execution_count": 48,
   "metadata": {},
   "outputs": [],
   "source": [
    "#Rank which features are the most important to the model\n",
    "feature_imp = pd.Series(clf.feature_importances_,index=features3.columns.values).sort_values(ascending=False)"
   ]
  },
  {
   "cell_type": "code",
   "execution_count": 49,
   "metadata": {},
   "outputs": [
    {
     "data": {
      "image/png": "[encoded data removed]",
      "text/plain": [
       "<matplotlib.figure.Figure at 0x25291a7be10>"
      ]
     },
     "metadata": {},
     "output_type": "display_data"
    }
   ],
   "source": [
    "# Creating a bar plot of the top 50 features for the model\n",
    "plt.figure(figsize=(10,10))\n",
    "ax = sns.barplot(x=feature_imp, y=feature_imp.index)\n",
    "# Add labels to your graph\n",
    "plt.xlabel('Feature Importance Score')\n",
    "plt.ylabel('Features')\n",
    "plt.title(\"Visualizing Important Features\")\n",
    "plt.show()"
   ]
  },
  {
   "cell_type": "markdown",
   "metadata": {},
   "source": [
    "The best model I was able to create had an accuracy rate of 32%. This particular model looked at the 77th street district specifically. This model used the variables: day of the week, month, and time of day."
   ]
  },
  {
   "cell_type": "markdown",
   "metadata": {},
   "source": [
    "### Create Support Vector Machine Model"
   ]
  },
  {
   "cell_type": "markdown",
   "metadata": {},
   "source": [
    "Because SVM models work better with smaller datasets I will attempt to predict a crime on a sub sample of the dataset. I will focus on assaults by handgun in the 77th St. District"
   ]
  },
  {
   "cell_type": "code",
   "execution_count": 50,
   "metadata": {},
   "outputs": [],
   "source": [
    "#Group time by hour\n",
    "crime_df['year'] = [r.year for r in crime_df.date]"
   ]
  },
  {
   "cell_type": "code",
   "execution_count": 65,
   "metadata": {},
   "outputs": [
    {
     "name": "stdout",
     "output_type": "stream",
     "text": [
      "(1893, 35)\n",
      "['90062' '90037' '90043' '90047' '90003' '90001' '90044' '90305' '90302'\n",
      " '90002' '90240']\n"
     ]
    }
   ],
   "source": [
    "#Create new dataframe that focuses on assaults by handgun in the 77th St. District\n",
    "df_77 = crime_df[crime_df['area_id']=='12']\n",
    "df_sub = df_77[df_77['crm_cd']=='230']\n",
    "df_sub = df_sub[df_sub['weapon_used_cd']=='102']\n",
    "print(df_sub.shape)\n",
    "print(df_sub['zipcode'].unique())"
   ]
  },
  {
   "cell_type": "code",
   "execution_count": 66,
   "metadata": {},
   "outputs": [
    {
     "data": {
      "text/html": [
       "<div>\n",
       "<style scoped>\n",
       "    .dataframe tbody tr th:only-of-type {\n",
       "        vertical-align: middle;\n",
       "    }\n",
       "\n",
       "    .dataframe tbody tr th {\n",
       "        vertical-align: top;\n",
       "    }\n",
       "\n",
       "    .dataframe thead th {\n",
       "        text-align: right;\n",
       "    }\n",
       "</style>\n",
       "<table border=\"1\" class=\"dataframe\">\n",
       "  <thead>\n",
       "    <tr style=\"text-align: right;\">\n",
       "      <th></th>\n",
       "      <th>area_id</th>\n",
       "      <th>area_name</th>\n",
       "      <th>crm_cd</th>\n",
       "      <th>crm_cd_desc</th>\n",
       "      <th>date_occ</th>\n",
       "      <th>date_rptd</th>\n",
       "      <th>dr_no</th>\n",
       "      <th>location</th>\n",
       "      <th>location_1</th>\n",
       "      <th>mocodes</th>\n",
       "      <th>...</th>\n",
       "      <th>dt</th>\n",
       "      <th>date</th>\n",
       "      <th>hour</th>\n",
       "      <th>time_groups</th>\n",
       "      <th>day</th>\n",
       "      <th>time_groups_2</th>\n",
       "      <th>age</th>\n",
       "      <th>target</th>\n",
       "      <th>month</th>\n",
       "      <th>year</th>\n",
       "    </tr>\n",
       "    <tr>\n",
       "      <th>zipcode</th>\n",
       "      <th></th>\n",
       "      <th></th>\n",
       "      <th></th>\n",
       "      <th></th>\n",
       "      <th></th>\n",
       "      <th></th>\n",
       "      <th></th>\n",
       "      <th></th>\n",
       "      <th></th>\n",
       "      <th></th>\n",
       "      <th></th>\n",
       "      <th></th>\n",
       "      <th></th>\n",
       "      <th></th>\n",
       "      <th></th>\n",
       "      <th></th>\n",
       "      <th></th>\n",
       "      <th></th>\n",
       "      <th></th>\n",
       "      <th></th>\n",
       "      <th></th>\n",
       "    </tr>\n",
       "  </thead>\n",
       "  <tbody>\n",
       "    <tr>\n",
       "      <th>90001</th>\n",
       "      <td>31</td>\n",
       "      <td>31</td>\n",
       "      <td>31</td>\n",
       "      <td>31</td>\n",
       "      <td>31</td>\n",
       "      <td>31</td>\n",
       "      <td>31</td>\n",
       "      <td>31</td>\n",
       "      <td>31</td>\n",
       "      <td>31</td>\n",
       "      <td>...</td>\n",
       "      <td>31</td>\n",
       "      <td>31</td>\n",
       "      <td>31</td>\n",
       "      <td>31</td>\n",
       "      <td>31</td>\n",
       "      <td>31</td>\n",
       "      <td>31</td>\n",
       "      <td>31</td>\n",
       "      <td>31</td>\n",
       "      <td>31</td>\n",
       "    </tr>\n",
       "    <tr>\n",
       "      <th>90002</th>\n",
       "      <td>7</td>\n",
       "      <td>7</td>\n",
       "      <td>7</td>\n",
       "      <td>7</td>\n",
       "      <td>7</td>\n",
       "      <td>7</td>\n",
       "      <td>7</td>\n",
       "      <td>7</td>\n",
       "      <td>7</td>\n",
       "      <td>7</td>\n",
       "      <td>...</td>\n",
       "      <td>7</td>\n",
       "      <td>7</td>\n",
       "      <td>7</td>\n",
       "      <td>7</td>\n",
       "      <td>7</td>\n",
       "      <td>7</td>\n",
       "      <td>7</td>\n",
       "      <td>7</td>\n",
       "      <td>7</td>\n",
       "      <td>7</td>\n",
       "    </tr>\n",
       "    <tr>\n",
       "      <th>90003</th>\n",
       "      <td>577</td>\n",
       "      <td>577</td>\n",
       "      <td>577</td>\n",
       "      <td>577</td>\n",
       "      <td>577</td>\n",
       "      <td>577</td>\n",
       "      <td>577</td>\n",
       "      <td>577</td>\n",
       "      <td>577</td>\n",
       "      <td>574</td>\n",
       "      <td>...</td>\n",
       "      <td>577</td>\n",
       "      <td>577</td>\n",
       "      <td>577</td>\n",
       "      <td>577</td>\n",
       "      <td>577</td>\n",
       "      <td>577</td>\n",
       "      <td>558</td>\n",
       "      <td>577</td>\n",
       "      <td>577</td>\n",
       "      <td>577</td>\n",
       "    </tr>\n",
       "    <tr>\n",
       "      <th>90037</th>\n",
       "      <td>261</td>\n",
       "      <td>261</td>\n",
       "      <td>261</td>\n",
       "      <td>261</td>\n",
       "      <td>261</td>\n",
       "      <td>261</td>\n",
       "      <td>261</td>\n",
       "      <td>261</td>\n",
       "      <td>261</td>\n",
       "      <td>261</td>\n",
       "      <td>...</td>\n",
       "      <td>261</td>\n",
       "      <td>261</td>\n",
       "      <td>261</td>\n",
       "      <td>261</td>\n",
       "      <td>261</td>\n",
       "      <td>261</td>\n",
       "      <td>258</td>\n",
       "      <td>261</td>\n",
       "      <td>261</td>\n",
       "      <td>261</td>\n",
       "    </tr>\n",
       "    <tr>\n",
       "      <th>90043</th>\n",
       "      <td>346</td>\n",
       "      <td>346</td>\n",
       "      <td>346</td>\n",
       "      <td>346</td>\n",
       "      <td>346</td>\n",
       "      <td>346</td>\n",
       "      <td>346</td>\n",
       "      <td>346</td>\n",
       "      <td>346</td>\n",
       "      <td>345</td>\n",
       "      <td>...</td>\n",
       "      <td>346</td>\n",
       "      <td>346</td>\n",
       "      <td>346</td>\n",
       "      <td>346</td>\n",
       "      <td>346</td>\n",
       "      <td>346</td>\n",
       "      <td>340</td>\n",
       "      <td>346</td>\n",
       "      <td>346</td>\n",
       "      <td>346</td>\n",
       "    </tr>\n",
       "    <tr>\n",
       "      <th>90044</th>\n",
       "      <td>18</td>\n",
       "      <td>18</td>\n",
       "      <td>18</td>\n",
       "      <td>18</td>\n",
       "      <td>18</td>\n",
       "      <td>18</td>\n",
       "      <td>18</td>\n",
       "      <td>18</td>\n",
       "      <td>18</td>\n",
       "      <td>18</td>\n",
       "      <td>...</td>\n",
       "      <td>18</td>\n",
       "      <td>18</td>\n",
       "      <td>18</td>\n",
       "      <td>18</td>\n",
       "      <td>18</td>\n",
       "      <td>18</td>\n",
       "      <td>17</td>\n",
       "      <td>18</td>\n",
       "      <td>18</td>\n",
       "      <td>18</td>\n",
       "    </tr>\n",
       "    <tr>\n",
       "      <th>90047</th>\n",
       "      <td>284</td>\n",
       "      <td>284</td>\n",
       "      <td>284</td>\n",
       "      <td>284</td>\n",
       "      <td>284</td>\n",
       "      <td>284</td>\n",
       "      <td>284</td>\n",
       "      <td>284</td>\n",
       "      <td>284</td>\n",
       "      <td>284</td>\n",
       "      <td>...</td>\n",
       "      <td>284</td>\n",
       "      <td>284</td>\n",
       "      <td>284</td>\n",
       "      <td>284</td>\n",
       "      <td>284</td>\n",
       "      <td>284</td>\n",
       "      <td>279</td>\n",
       "      <td>284</td>\n",
       "      <td>284</td>\n",
       "      <td>284</td>\n",
       "    </tr>\n",
       "    <tr>\n",
       "      <th>90062</th>\n",
       "      <td>275</td>\n",
       "      <td>275</td>\n",
       "      <td>275</td>\n",
       "      <td>275</td>\n",
       "      <td>275</td>\n",
       "      <td>275</td>\n",
       "      <td>275</td>\n",
       "      <td>275</td>\n",
       "      <td>275</td>\n",
       "      <td>275</td>\n",
       "      <td>...</td>\n",
       "      <td>275</td>\n",
       "      <td>275</td>\n",
       "      <td>275</td>\n",
       "      <td>275</td>\n",
       "      <td>275</td>\n",
       "      <td>275</td>\n",
       "      <td>266</td>\n",
       "      <td>275</td>\n",
       "      <td>275</td>\n",
       "      <td>275</td>\n",
       "    </tr>\n",
       "    <tr>\n",
       "      <th>90240</th>\n",
       "      <td>3</td>\n",
       "      <td>3</td>\n",
       "      <td>3</td>\n",
       "      <td>3</td>\n",
       "      <td>3</td>\n",
       "      <td>3</td>\n",
       "      <td>3</td>\n",
       "      <td>3</td>\n",
       "      <td>3</td>\n",
       "      <td>3</td>\n",
       "      <td>...</td>\n",
       "      <td>3</td>\n",
       "      <td>3</td>\n",
       "      <td>3</td>\n",
       "      <td>3</td>\n",
       "      <td>3</td>\n",
       "      <td>3</td>\n",
       "      <td>3</td>\n",
       "      <td>3</td>\n",
       "      <td>3</td>\n",
       "      <td>3</td>\n",
       "    </tr>\n",
       "    <tr>\n",
       "      <th>90302</th>\n",
       "      <td>9</td>\n",
       "      <td>9</td>\n",
       "      <td>9</td>\n",
       "      <td>9</td>\n",
       "      <td>9</td>\n",
       "      <td>9</td>\n",
       "      <td>9</td>\n",
       "      <td>9</td>\n",
       "      <td>9</td>\n",
       "      <td>9</td>\n",
       "      <td>...</td>\n",
       "      <td>9</td>\n",
       "      <td>9</td>\n",
       "      <td>9</td>\n",
       "      <td>9</td>\n",
       "      <td>9</td>\n",
       "      <td>9</td>\n",
       "      <td>9</td>\n",
       "      <td>9</td>\n",
       "      <td>9</td>\n",
       "      <td>9</td>\n",
       "    </tr>\n",
       "    <tr>\n",
       "      <th>90305</th>\n",
       "      <td>82</td>\n",
       "      <td>82</td>\n",
       "      <td>82</td>\n",
       "      <td>82</td>\n",
       "      <td>82</td>\n",
       "      <td>82</td>\n",
       "      <td>82</td>\n",
       "      <td>82</td>\n",
       "      <td>82</td>\n",
       "      <td>82</td>\n",
       "      <td>...</td>\n",
       "      <td>82</td>\n",
       "      <td>82</td>\n",
       "      <td>82</td>\n",
       "      <td>82</td>\n",
       "      <td>82</td>\n",
       "      <td>82</td>\n",
       "      <td>75</td>\n",
       "      <td>82</td>\n",
       "      <td>82</td>\n",
       "      <td>82</td>\n",
       "    </tr>\n",
       "  </tbody>\n",
       "</table>\n",
       "<p>11 rows × 34 columns</p>\n",
       "</div>"
      ],
      "text/plain": [
       "         area_id  area_name  crm_cd  crm_cd_desc  date_occ  date_rptd  dr_no  \\\n",
       "zipcode                                                                        \n",
       "90001         31         31      31           31        31         31     31   \n",
       "90002          7          7       7            7         7          7      7   \n",
       "90003        577        577     577          577       577        577    577   \n",
       "90037        261        261     261          261       261        261    261   \n",
       "90043        346        346     346          346       346        346    346   \n",
       "90044         18         18      18           18        18         18     18   \n",
       "90047        284        284     284          284       284        284    284   \n",
       "90062        275        275     275          275       275        275    275   \n",
       "90240          3          3       3            3         3          3      3   \n",
       "90302          9          9       9            9         9          9      9   \n",
       "90305         82         82      82           82        82         82     82   \n",
       "\n",
       "         location  location_1  mocodes  ...    dt  date  hour  time_groups  \\\n",
       "zipcode                                 ...                                  \n",
       "90001          31          31       31  ...    31    31    31           31   \n",
       "90002           7           7        7  ...     7     7     7            7   \n",
       "90003         577         577      574  ...   577   577   577          577   \n",
       "90037         261         261      261  ...   261   261   261          261   \n",
       "90043         346         346      345  ...   346   346   346          346   \n",
       "90044          18          18       18  ...    18    18    18           18   \n",
       "90047         284         284      284  ...   284   284   284          284   \n",
       "90062         275         275      275  ...   275   275   275          275   \n",
       "90240           3           3        3  ...     3     3     3            3   \n",
       "90302           9           9        9  ...     9     9     9            9   \n",
       "90305          82          82       82  ...    82    82    82           82   \n",
       "\n",
       "         day  time_groups_2  age  target  month  year  \n",
       "zipcode                                                \n",
       "90001     31             31   31      31     31    31  \n",
       "90002      7              7    7       7      7     7  \n",
       "90003    577            577  558     577    577   577  \n",
       "90037    261            261  258     261    261   261  \n",
       "90043    346            346  340     346    346   346  \n",
       "90044     18             18   17      18     18    18  \n",
       "90047    284            284  279     284    284   284  \n",
       "90062    275            275  266     275    275   275  \n",
       "90240      3              3    3       3      3     3  \n",
       "90302      9              9    9       9      9     9  \n",
       "90305     82             82   75      82     82    82  \n",
       "\n",
       "[11 rows x 34 columns]"
      ]
     },
     "execution_count": 66,
     "metadata": {},
     "output_type": "execute_result"
    }
   ],
   "source": [
    "#Count by zipcode\n",
    "df_sub.groupby('zipcode').count()"
   ]
  },
  {
   "cell_type": "code",
   "execution_count": 67,
   "metadata": {},
   "outputs": [],
   "source": [
    "#Because zipcode 90240 has less than 5 values I will drop this row\n",
    "df_sub = df_sub[df_sub['zipcode'] != \"90240\"]"
   ]
  },
  {
   "cell_type": "code",
   "execution_count": 68,
   "metadata": {},
   "outputs": [],
   "source": [
    "df_sub = df_sub.drop(['target'], 1)"
   ]
  },
  {
   "cell_type": "code",
   "execution_count": 69,
   "metadata": {},
   "outputs": [],
   "source": [
    "number = LabelEncoder()\n",
    "df_sub['target'] = number.fit_transform(df_sub['zipcode'].astype('str'))\n",
    "label = crime_df['target']"
   ]
  },
  {
   "cell_type": "code",
   "execution_count": 54,
   "metadata": {},
   "outputs": [],
   "source": [
    "from sklearn import svm"
   ]
  },
  {
   "cell_type": "code",
   "execution_count": 71,
   "metadata": {},
   "outputs": [],
   "source": [
    "features4 = pd.get_dummies(df_sub.day, prefix = 'day').iloc[:, 1:]\n",
    "time_dm = pd.get_dummies(df_sub.time_groups, prefix = 'time_groups').iloc[:, 1:]\n",
    "month_dm = pd.get_dummies(df_sub.month, prefix='month').iloc[:, 1:]\n",
    "features4 = pd.concat([features4, time_dm, month_dm], axis = 1)"
   ]
  },
  {
   "cell_type": "code",
   "execution_count": 72,
   "metadata": {},
   "outputs": [],
   "source": [
    "label3 = df_sub['target']"
   ]
  },
  {
   "cell_type": "code",
   "execution_count": 73,
   "metadata": {},
   "outputs": [],
   "source": [
    "#Split dataset into train and test sets, create RandomForestClassifier, and train model\n",
    "X_train, X_test, y_train, y_test = train_test_split(features4, label3, test_size=0.3)\n",
    "\n",
    "#Create classifier\n",
    "clf = svm.SVC(kernel='linear', C=1)\n",
    "\n",
    "#Train the model\n",
    "clf.fit(X_train, y_train)\n",
    "\n",
    "y_pred = clf.predict(X_test)"
   ]
  },
  {
   "cell_type": "code",
   "execution_count": 74,
   "metadata": {},
   "outputs": [
    {
     "data": {
      "text/plain": [
       "0.2839506172839506"
      ]
     },
     "execution_count": 74,
     "metadata": {},
     "output_type": "execute_result"
    }
   ],
   "source": [
    "clf.score(X_test, y_test)"
   ]
  },
  {
   "cell_type": "markdown",
   "metadata": {},
   "source": [
    "#### Optimize Hyperparameters"
   ]
  },
  {
   "cell_type": "code",
   "execution_count": 59,
   "metadata": {},
   "outputs": [],
   "source": [
    "from sklearn.model_selection import GridSearchCV"
   ]
  },
  {
   "cell_type": "code",
   "execution_count": 75,
   "metadata": {},
   "outputs": [
    {
     "data": {
      "text/plain": [
       "GridSearchCV(cv=5, error_score='raise',\n",
       "       estimator=SVC(C=1.0, cache_size=200, class_weight=None, coef0=0.0,\n",
       "  decision_function_shape='ovr', degree=3, gamma='auto', kernel='rbf',\n",
       "  max_iter=-1, probability=False, random_state=None, shrinking=True,\n",
       "  tol=0.001, verbose=False),\n",
       "       fit_params=None, iid=True, n_jobs=1,\n",
       "       param_grid={'kernel': ('linear', 'rbf'), 'C': [0.1, 1, 10], 'gamma': [1, 0.1, 0.001]},\n",
       "       pre_dispatch='2*n_jobs', refit=True, return_train_score='warn',\n",
       "       scoring=None, verbose=0)"
      ]
     },
     "execution_count": 75,
     "metadata": {},
     "output_type": "execute_result"
    }
   ],
   "source": [
    "parameters = {'kernel':('linear', 'rbf'), 'C':[0.1, 1, 10], 'gamma':[1, 0.1, 0.001]}\n",
    "svc = svm.SVC()\n",
    "X_train, X_test, y_train, y_test = train_test_split(features4, label3, test_size=0.3)\n",
    "clf = GridSearchCV(svc, parameters, cv=5)\n",
    "clf.fit(X_train, y_train)"
   ]
  },
  {
   "cell_type": "code",
   "execution_count": 76,
   "metadata": {},
   "outputs": [
    {
     "name": "stdout",
     "output_type": "stream",
     "text": [
      "Tuned Logistic Regression Parameter: {'C': 10, 'gamma': 1, 'kernel': 'rbf'}\n",
      "Tuned Logistic Regression Accuracy: 0.3726379440665155\n"
     ]
    }
   ],
   "source": [
    "print(\"Tuned Logistic Regression Parameter: {}\".format(clf.best_params_))\n",
    "print(\"Tuned Logistic Regression Accuracy: {}\".format(clf.best_score_))"
   ]
  },
  {
   "cell_type": "markdown",
   "metadata": {},
   "source": [
    "### Create  Gradient Boosting Classifier"
   ]
  },
  {
   "cell_type": "code",
   "execution_count": 77,
   "metadata": {},
   "outputs": [],
   "source": [
    "from sklearn.ensemble import GradientBoostingClassifier"
   ]
  },
  {
   "cell_type": "code",
   "execution_count": 78,
   "metadata": {},
   "outputs": [],
   "source": [
    "#Split dataset into train and test sets, create RandomForestClassifier, and train model\n",
    "X_train, X_test, y_train, y_test = train_test_split(features4, label3, test_size=0.3)\n",
    "\n",
    "#Create classifier\n",
    "clf = GradientBoostingClassifier()\n",
    "\n",
    "#Train the model\n",
    "clf.fit(X_train, y_train)\n",
    "\n",
    "y_pred = clf.predict(X_test)"
   ]
  },
  {
   "cell_type": "code",
   "execution_count": 79,
   "metadata": {},
   "outputs": [
    {
     "name": "stdout",
     "output_type": "stream",
     "text": [
      "Accuracy: 0.3439153439153439\n"
     ]
    }
   ],
   "source": [
    "#Calculate how often the classifier is correct\n",
    "#How often is the classifier correct\n",
    "print(\"Accuracy:\",metrics.accuracy_score(y_test, y_pred))"
   ]
  },
  {
   "cell_type": "markdown",
   "metadata": {},
   "source": [
    "#### Optimize hyperparameters"
   ]
  },
  {
   "cell_type": "code",
   "execution_count": 80,
   "metadata": {},
   "outputs": [
    {
     "name": "stderr",
     "output_type": "stream",
     "text": [
      "C:\\Users\\Jai Dave\\Anaconda3\\lib\\site-packages\\sklearn\\model_selection\\_search.py:761: DeprecationWarning: The grid_scores_ attribute was deprecated in version 0.18 in favor of the more elaborate cv_results_ attribute. The grid_scores_ attribute will not be available from 0.20\n",
      "  DeprecationWarning)\n"
     ]
    },
    {
     "data": {
      "text/plain": [
       "([mean: 0.35616, std: 0.02385, params: {'learning_rate': 0.05, 'n_estimators': 70},\n",
       "  mean: 0.35087, std: 0.02928, params: {'learning_rate': 0.05, 'n_estimators': 60},\n",
       "  mean: 0.35539, std: 0.02529, params: {'learning_rate': 0.05, 'n_estimators': 50},\n",
       "  mean: 0.34779, std: 0.01933, params: {'learning_rate': 0.05, 'n_estimators': 40},\n",
       "  mean: 0.36747, std: 0.01854, params: {'learning_rate': 0.1, 'n_estimators': 70},\n",
       "  mean: 0.36819, std: 0.01824, params: {'learning_rate': 0.1, 'n_estimators': 60},\n",
       "  mean: 0.36742, std: 0.02152, params: {'learning_rate': 0.1, 'n_estimators': 50},\n",
       "  mean: 0.36138, std: 0.01571, params: {'learning_rate': 0.1, 'n_estimators': 40},\n",
       "  mean: 0.36517, std: 0.01931, params: {'learning_rate': 0.15, 'n_estimators': 70},\n",
       "  mean: 0.35986, std: 0.01363, params: {'learning_rate': 0.15, 'n_estimators': 60},\n",
       "  mean: 0.36127, std: 0.02008, params: {'learning_rate': 0.15, 'n_estimators': 50},\n",
       "  mean: 0.36057, std: 0.01588, params: {'learning_rate': 0.15, 'n_estimators': 40},\n",
       "  mean: 0.37049, std: 0.02007, params: {'learning_rate': 0.2, 'n_estimators': 70},\n",
       "  mean: 0.37276, std: 0.01707, params: {'learning_rate': 0.2, 'n_estimators': 60},\n",
       "  mean: 0.36751, std: 0.02336, params: {'learning_rate': 0.2, 'n_estimators': 50},\n",
       "  mean: 0.37423, std: 0.02201, params: {'learning_rate': 0.2, 'n_estimators': 40}],\n",
       " {'learning_rate': 0.2, 'n_estimators': 40},\n",
       " 0.37423160817586776)"
      ]
     },
     "execution_count": 80,
     "metadata": {},
     "output_type": "execute_result"
    }
   ],
   "source": [
    "parameters = {'learning_rate': [0.05, 0.1, 0.15, 0.2], 'n_estimators':[70, 60, 50, 40]}\n",
    "tuning=GridSearchCV(estimator=GradientBoostingClassifier(max_depth=8,min_samples_split=2,min_samples_leaf=1,subsample=0.8,max_features='sqrt', random_state=10),\n",
    "                      param_grid = parameters, scoring = 'accuracy', n_jobs=4, iid=False, cv=5)\n",
    "X_train, X_test, y_train, y_test = train_test_split(features4, label3, test_size=0.3)\n",
    "tuning.fit(X_train, y_train)\n",
    "tuning.grid_scores_, tuning.best_params_, tuning.best_score_"
   ]
  },
  {
   "cell_type": "code",
   "execution_count": 89,
   "metadata": {},
   "outputs": [
    {
     "data": {
      "image/png": "[encoded data removed]",
      "text/plain": [
       "<matplotlib.figure.Figure at 0x252919c0860>"
      ]
     },
     "metadata": {},
     "output_type": "display_data"
    }
   ],
   "source": [
    "model = GradientBoostingClassifier(n_estimators=40, learning_rate=0.2, max_depth=8, min_samples_split=2, min_samples_leaf=1, subsample=0.8, max_features=0.8, random_state=10)\n",
    "model.fit(X_train, y_train)\n",
    "predictors = list(X_train)\n",
    "feat_imp = pd.Series(model.feature_importances_, predictors).sort_values(ascending=False)\n",
    "plt.figure(figsize=(15,10))\n",
    "feat_imp.plot(kind='bar', title='Importance of Features')\n",
    "plt.ylabel('Feature Importance Score')\n",
    "pred=model.predict(X_test)"
   ]
  },
  {
   "cell_type": "markdown",
   "metadata": {},
   "source": [
    "After testing different combinations of learning rate and estimators the opitmal values found were a .2 learning rate and 40 estimators with a success rate of 37.42% which is the best model I tested."
   ]
  },
  {
   "cell_type": "markdown",
   "metadata": {},
   "source": [
    "### Closing Remarks"
   ]
  },
  {
   "cell_type": "markdown",
   "metadata": {},
   "source": [
    "The above analysis shows when and where crimes are occuring and who is the most prone to being targeted by crime. Unfortuantely, I was not able to create a reliable model that predicts the zipcode a crime will occur based on the data with the best model having a success rate of 37.42%. To limit processing time I chose a small subset of my data. Things to try would be to examine different subsets of the data or the data set as a whole, as well as, other modelling methods like XGBoost."
   ]
  }
 ],
 "metadata": {
  "kernelspec": {
   "display_name": "Python 3",
   "language": "python",
   "name": "python3"
  },
  "language_info": {
   "codemirror_mode": {
    "name": "ipython",
    "version": 3
   },
   "file_extension": ".py",
   "mimetype": "text/x-python",
   "name": "python",
   "nbconvert_exporter": "python",
   "pygments_lexer": "ipython3",
   "version": "3.6.4"
  }
 },
 "nbformat": 4,
 "nbformat_minor": 2
}
